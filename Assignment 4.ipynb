{
 "cells": [
  {
   "cell_type": "markdown",
   "metadata": {},
   "source": [
    "# 1.1 Write a Python Program(with class concepts) to find the area of the triangle using the below formula.\n",
    "\n",
    "* area = (s*(s-a)*(s-b)*(s-c)) ** 0.5\n",
    "\n",
    "Function to take the length of the sides of triangle from user should be defined in the parent class and function to calculate the area should be defined in subclass."
   ]
  },
  {
   "cell_type": "code",
   "execution_count": 1,
   "metadata": {},
   "outputs": [],
   "source": [
    "class Triangle:\n",
    "    \n",
    "    def __init__(self,first,second,third):\n",
    "        self.first = first\n",
    "        self.second = second\n",
    "        self.third = third\n",
    "\n"
   ]
  },
  {
   "cell_type": "code",
   "execution_count": 2,
   "metadata": {},
   "outputs": [
    {
     "name": "stdout",
     "output_type": "stream",
     "text": [
      "Enter the first  side: 3\n",
      "Enter the Second side: 4\n",
      "Enter the third  side: 5\n",
      "Area of triangle with side (3,4,5) is 6.0 sq units\n"
     ]
    }
   ],
   "source": [
    "class Triangle_Service(Triangle):\n",
    "    def __init__(self,*args):\n",
    "        super(Triangle_Service,self).__init__(*args)\n",
    "    \n",
    "    def area_of_triangle(self):\n",
    "        s = (self.first + self.second + self.third)/2\n",
    "        area = (s*(s-self.first)*(s-self.second)*(s-self.third))**0.5\n",
    "        return area\n",
    "\n",
    "side1 = int(input('Enter the first  side: '))\n",
    "side2 = int(input('Enter the Second side: '))\n",
    "side3 = int(input('Enter the third  side: '))\n",
    "\n",
    "    \n",
    "t = Triangle_Service(side1,side2,side3)\n",
    "print(\"Area of triangle with side ({},{},{}) is {} sq units\".format(t.first,t.second,t.third,t.area_of_triangle()))"
   ]
  },
  {
   "cell_type": "markdown",
   "metadata": {},
   "source": [
    "# 1.2 Write a function filter_long_words() that takes a list of words and an integer n and returns the list of words that are longer than n."
   ]
  },
  {
   "cell_type": "code",
   "execution_count": 3,
   "metadata": {},
   "outputs": [
    {
     "name": "stdout",
     "output_type": "stream",
     "text": [
      "Enter the threshold value for filtering the list : 4\n",
      "\n",
      "List of words greater than length 4 : ['Kumar.', 'enrolled', 'Machine', 'Learning', 'Masters', 'course', 'iNeuron']\n"
     ]
    }
   ],
   "source": [
    "class Words:\n",
    "    def __init__(self,lst):\n",
    "        self.lst = lst\n",
    "\n",
    "class Word_Service(Words):\n",
    "    def __init__(self,threshold,lst):\n",
    "        super(Word_Service,self).__init__(lst)\n",
    "        self.threshold = threshold\n",
    "        \n",
    "    def filter_long_words(self):\n",
    "        filtered_list = list()\n",
    "        for word in self.lst:\n",
    "            if(len(word)>5):\n",
    "                filtered_list.append(word)\n",
    "        return filtered_list\n",
    "\n",
    "sent = \"My name is Sumit Kumar. I have enrolled for Machine Learning Masters course with iNeuron\"\n",
    "lst = sent.split(\" \")\n",
    "value = int(input('Enter the threshold value for filtering the list : '))\n",
    "print()\n",
    "                  \n",
    "a = Word_Service(value,lst)\n",
    "print(\"List of words greater than length {} : {}\".format(value,a.filter_long_words()))"
   ]
  },
  {
   "cell_type": "code",
   "execution_count": null,
   "metadata": {},
   "outputs": [],
   "source": []
  },
  {
   "cell_type": "markdown",
   "metadata": {},
   "source": [
    "# 2.1 Write a Python program using function concept that maps list of words into a list of integers representing the lengths of the corresponding words.\n",
    "\n",
    "Hint: If a list [ ab,cde,erty] is passed on to the python function output should come as [2,3,4]\n",
    "Here 2,3 and 4 are the lengths of the words in the list."
   ]
  },
  {
   "cell_type": "code",
   "execution_count": 4,
   "metadata": {},
   "outputs": [
    {
     "name": "stdout",
     "output_type": "stream",
     "text": [
      "[2, 4, 2, 5, 6, 1, 4, 2, 6, 1, 10, 4, 10]\n"
     ]
    }
   ],
   "source": [
    "def length_of_words(words_list):\n",
    "    length_list = []\n",
    "    for word in words_list:\n",
    "        length_list.append(len(word))\n",
    "    return length_list\n",
    "\n",
    "sent = \"My name is sumit kumar. I want to become a successful data scientist.\"\n",
    "lst = sent.split(\" \")\n",
    "print(length_of_words(lst))\n",
    "    "
   ]
  },
  {
   "cell_type": "code",
   "execution_count": null,
   "metadata": {},
   "outputs": [],
   "source": []
  },
  {
   "cell_type": "markdown",
   "metadata": {},
   "source": [
    "# 2.2 Write a Python function which takes a character (i.e. a string of length 1) and returns True if it is a vowel, False otherwise."
   ]
  },
  {
   "cell_type": "code",
   "execution_count": 5,
   "metadata": {},
   "outputs": [
    {
     "name": "stdout",
     "output_type": "stream",
     "text": [
      "Enter a letter : Sumit\n",
      "Please enter only ONE character\n",
      "Enter a letter : 123\n",
      "Please enter only Alphabet character\n",
      "Enter a letter : iNeuron\n",
      "Please enter only ONE character\n",
      "Enter a letter : 456\n",
      "Please enter only Alphabet character\n",
      "Enter a letter : A\n",
      "True\n"
     ]
    }
   ],
   "source": [
    "def isVowel(letter):\n",
    "    if(letter.lower() in ('a','e','i','o','u')):\n",
    "        return True\n",
    "    else:\n",
    "        return False\n",
    "\n",
    "    \n",
    "lett = input('Enter a letter : ')\n",
    "while(len(lett)!=1 or lett.isnumeric()):\n",
    "    \n",
    "    if(lett.isnumeric()):\n",
    "        print(\"Please enter only Alphabet character\")\n",
    "        lett = input('Enter a letter : ')\n",
    "    elif(len(lett)!=1):\n",
    "        print(\"Please enter only ONE character\")\n",
    "        lett = input('Enter a letter : ')\n",
    "        \n",
    "    \n",
    "print(isVowel(lett))"
   ]
  },
  {
   "cell_type": "code",
   "execution_count": null,
   "metadata": {},
   "outputs": [],
   "source": []
  }
 ],
 "metadata": {
  "kernelspec": {
   "display_name": "Python 3",
   "language": "python",
   "name": "python3"
  },
  "language_info": {
   "codemirror_mode": {
    "name": "ipython",
    "version": 3
   },
   "file_extension": ".py",
   "mimetype": "text/x-python",
   "name": "python",
   "nbconvert_exporter": "python",
   "pygments_lexer": "ipython3",
   "version": "3.7.4"
  }
 },
 "nbformat": 4,
 "nbformat_minor": 2
}
