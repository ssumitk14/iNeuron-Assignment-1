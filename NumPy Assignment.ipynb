{
 "cells": [
  {
   "cell_type": "markdown",
   "metadata": {},
   "source": [
    "# Write a function to find moving average in an array over a window: Test it over [3, 5, 7, 2, 8, 10, 11, 65, 72, 81, 99, 100, 150] and window of 3."
   ]
  },
  {
   "cell_type": "code",
   "execution_count": 1,
   "metadata": {},
   "outputs": [
    {
     "name": "stdout",
     "output_type": "stream",
     "text": [
      "Average of [3, 5, 7] is 5.0\n",
      "Average of [5, 7, 2] is 4.666666666666667\n",
      "Average of [7, 2, 8] is 5.666666666666667\n",
      "Average of [2, 8, 10] is 6.666666666666667\n",
      "Average of [8, 10, 11] is 9.666666666666666\n",
      "Average of [10, 11, 65] is 28.666666666666668\n",
      "Average of [11, 65, 72] is 49.333333333333336\n",
      "Average of [65, 72, 81] is 72.66666666666667\n",
      "Average of [72, 81, 99] is 84.0\n",
      "Average of [81, 99, 100] is 93.33333333333333\n",
      "Average of [99, 100, 150] is 116.33333333333333\n",
      "\n",
      "Moving average in a window of 3 \n",
      " [5.0, 4.666666666666667, 5.666666666666667, 6.666666666666667, 9.666666666666666, 28.666666666666668, 49.333333333333336, 72.66666666666667, 84.0, 93.33333333333333, 116.33333333333333]\n"
     ]
    }
   ],
   "source": [
    "import numpy as np\n",
    "data = [3,5,7,2,8,10,11,65,72,81,99,100,150]\n",
    "window = 3\n",
    "\n",
    "def movingAverage(data,window):\n",
    "    average_list = []\n",
    "    for start_index in range(len(data)):\n",
    "        end_index = start_index + window\n",
    "        if(end_index > len(data)):\n",
    "            break\n",
    "        print(\"Average of {} is {}\".format(data[start_index:end_index],\n",
    "                                      np.mean(data[start_index:end_index])))\n",
    "    \n",
    "        average_list.append(np.mean(data[start_index:end_index]))\n",
    "    print()\n",
    "    return average_list\n",
    "\n",
    "    \n",
    "print(\"Moving average in a window of {} \\n {}\".format(window,movingAverage(data,window)))"
   ]
  },
  {
   "cell_type": "code",
   "execution_count": null,
   "metadata": {},
   "outputs": [],
   "source": []
  },
  {
   "cell_type": "code",
   "execution_count": 2,
   "metadata": {},
   "outputs": [
    {
     "name": "stdout",
     "output_type": "stream",
     "text": [
      "[  5.           4.66666667   5.66666667   6.66666667   9.66666667\n",
      "  28.66666667  49.33333333  72.66666667  84.          93.33333333\n",
      " 116.33333333]\n"
     ]
    }
   ],
   "source": [
    "# Using convolution \n",
    "data = [3,5,7,2,8,10,11,65,72,81,99,100,150]\n",
    "window = 3\n",
    "weights = np.repeat(1,window)/window\n",
    "print(np.convolve(data,weights,'valid'))"
   ]
  },
  {
   "cell_type": "code",
   "execution_count": null,
   "metadata": {},
   "outputs": [],
   "source": []
  }
 ],
 "metadata": {
  "kernelspec": {
   "display_name": "Python 3",
   "language": "python",
   "name": "python3"
  },
  "language_info": {
   "codemirror_mode": {
    "name": "ipython",
    "version": 3
   },
   "file_extension": ".py",
   "mimetype": "text/x-python",
   "name": "python",
   "nbconvert_exporter": "python",
   "pygments_lexer": "ipython3",
   "version": "3.7.4"
  }
 },
 "nbformat": 4,
 "nbformat_minor": 2
}
