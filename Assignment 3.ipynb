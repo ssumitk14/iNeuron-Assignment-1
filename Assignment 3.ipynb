{
 "cells": [
  {
   "cell_type": "markdown",
   "metadata": {},
   "source": [
    "# 1.1 Write a Python Program to implement your own myreduce() function which works exactly like Python's built-in function reduce()"
   ]
  },
  {
   "cell_type": "code",
   "execution_count": 1,
   "metadata": {},
   "outputs": [],
   "source": [
    "from functools import reduce"
   ]
  },
  {
   "cell_type": "code",
   "execution_count": 2,
   "metadata": {},
   "outputs": [
    {
     "name": "stdout",
     "output_type": "stream",
     "text": [
      "Sum             30.5\n",
      "Product         120\n",
      "Greatest no     8\n"
     ]
    }
   ],
   "source": [
    "lst1 = [2,1,5,4,3,6,8,1.5]\n",
    "\n",
    "print(\"Sum  {:15}\".format(reduce(lambda x,y:x+y, lst1)))\n",
    "print(\"Product  {:10}\".format(reduce(lambda x,y:x*y, range(1,6))))\n",
    "print(\"Greatest no  {:4}\".format(reduce(lambda x,y:y if y>x else x,lst1)))"
   ]
  },
  {
   "cell_type": "code",
   "execution_count": 3,
   "metadata": {},
   "outputs": [
    {
     "name": "stdout",
     "output_type": "stream",
     "text": [
      "Sum             30.5\n",
      "Product         120\n",
      "Greatest no     8\n"
     ]
    }
   ],
   "source": [
    "def myreduce(function,lst):\n",
    "    value = lst[-1]\n",
    "    for num in lst[:-1]:\n",
    "        value = function(value,num)\n",
    "    return value\n",
    "\n",
    "lst = [1,2,3,4,5]\n",
    "print(\"Sum  {:15}\".format(myreduce(lambda x,y:x+y, lst1)))\n",
    "print(\"Product  {:10}\".format(myreduce(lambda x,y:x*y, range(1,6))))\n",
    "print(\"Greatest no  {:4}\".format(myreduce(lambda x,y:x if x>y else y,lst1)))"
   ]
  },
  {
   "cell_type": "code",
   "execution_count": null,
   "metadata": {},
   "outputs": [],
   "source": []
  },
  {
   "cell_type": "markdown",
   "metadata": {},
   "source": [
    "# 1.2 Write a Python program to implement your own myfilter() function which works exactly like Python's built-in function filter()"
   ]
  },
  {
   "cell_type": "code",
   "execution_count": 4,
   "metadata": {},
   "outputs": [
    {
     "name": "stdout",
     "output_type": "stream",
     "text": [
      "Even : [2, 4, 6, 8, 0]\n",
      "Odd  : [1, 3, 5, 7, 9]\n"
     ]
    }
   ],
   "source": [
    "lst2 = [1,2,3,4,5,6,7,8,9,0]\n",
    "print(\"Even : {}\".format(list(filter(lambda x: x%2==0, lst2))))\n",
    "print(\"Odd  : {}\".format(list(filter(lambda x: x%2!=0, lst2))))"
   ]
  },
  {
   "cell_type": "code",
   "execution_count": 5,
   "metadata": {},
   "outputs": [
    {
     "name": "stdout",
     "output_type": "stream",
     "text": [
      "Even : [2, 4, 6, 8, 0]\n",
      "Odd  : [1, 3, 5, 7, 9]\n",
      ">5   : [6, 7, 8, 9]\n"
     ]
    }
   ],
   "source": [
    "def myfilter(function,lst):\n",
    "    filteredList = list()\n",
    "    for value in lst:\n",
    "        if(function(value)):\n",
    "            filteredList.append(value)\n",
    "    return filteredList\n",
    "\n",
    "print(\"Even : {}\".format(myfilter(lambda x: x%2==0, lst2)))\n",
    "print(\"Odd  : {}\".format(myfilter(lambda x: x%2!=0, lst2)))\n",
    "print(\">5   : {}\".format(myfilter(lambda x: x>5, lst2)))"
   ]
  },
  {
   "cell_type": "code",
   "execution_count": null,
   "metadata": {},
   "outputs": [],
   "source": []
  },
  {
   "cell_type": "markdown",
   "metadata": {},
   "source": [
    "# 2. Implement List comprehensions to produce the following lists.\n",
    "Write List comprehensions to produce the following Lists\n",
    "1. ['x', 'xx', 'xxx', 'xxxx', 'y', 'yy', 'yyy', 'yyyy', 'z', 'zz', 'zzz', 'zzzz']\n",
    "2. ['x', 'y', 'z', 'xx', 'yy', 'zz', 'xxx', 'yyy', 'zzz', 'xxxx', 'yyyy', 'zzzz']\n",
    "3. [[2], [3], [4], [3], [4], [5], [4], [5], [6]] \n",
    "4. [[2, 3, 4, 5], [3, 4, 5, 6],[4, 5, 6, 7], [5, 6, 7, 8]]\n",
    "5. [(1, 1), (2, 1), (3, 1), (1, 2), (2, 2), (3, 2), (1, 3), (2, 3), (3, 3)]"
   ]
  },
  {
   "cell_type": "code",
   "execution_count": 6,
   "metadata": {},
   "outputs": [
    {
     "name": "stdout",
     "output_type": "stream",
     "text": [
      "['x', 'xx', 'xxx', 'xxxx', 'y', 'yy', 'yyy', 'yyyy', 'z', 'zz', 'zzz', 'zzzz']\n"
     ]
    }
   ],
   "source": [
    "lst = ['x','y','z']\n",
    "a = [letter*count for letter in lst for count in range(1,5)]\n",
    "print(a)"
   ]
  },
  {
   "cell_type": "code",
   "execution_count": 7,
   "metadata": {},
   "outputs": [
    {
     "name": "stdout",
     "output_type": "stream",
     "text": [
      "['x', 'y', 'z', 'xx', 'yy', 'zz', 'xxx', 'yyy', 'zzz', 'xxxx', 'yyyy', 'zzzz']\n"
     ]
    }
   ],
   "source": [
    "b = [letter*num for num in range(1,5) for letter in lst]\n",
    "print(b)"
   ]
  },
  {
   "cell_type": "code",
   "execution_count": 8,
   "metadata": {},
   "outputs": [
    {
     "name": "stdout",
     "output_type": "stream",
     "text": [
      "[[2], [3], [4], [3], [4], [5], [4], [5], [6]]\n"
     ]
    }
   ],
   "source": [
    "numberList = [2,3,4]\n",
    "c = [[count+num] for count in range(3) for num in numberList]   \n",
    "print(c)"
   ]
  },
  {
   "cell_type": "code",
   "execution_count": 9,
   "metadata": {},
   "outputs": [
    {
     "name": "stdout",
     "output_type": "stream",
     "text": [
      "[[2, 3, 4, 5], [3, 4, 5, 6], [4, 5, 6, 7], [5, 6, 7, 8]]\n"
     ]
    }
   ],
   "source": [
    "numberList2 = [2,3,4,5]\n",
    "d = [[item+num for item in numberList2] for num in range(4)]\n",
    "print(d)"
   ]
  },
  {
   "cell_type": "code",
   "execution_count": 10,
   "metadata": {},
   "outputs": [
    {
     "name": "stdout",
     "output_type": "stream",
     "text": [
      "[(1, 1), (2, 1), (3, 1), (1, 2), (2, 2), (3, 2), (1, 3), (2, 3), (3, 3)]\n"
     ]
    }
   ],
   "source": [
    "lst2 = [1,2,3]       \n",
    "e = [(num,count) for count in range(1,4) for num in lst2]\n",
    "print(e)"
   ]
  },
  {
   "cell_type": "code",
   "execution_count": null,
   "metadata": {},
   "outputs": [],
   "source": []
  }
 ],
 "metadata": {
  "kernelspec": {
   "display_name": "Python 3",
   "language": "python",
   "name": "python3"
  },
  "language_info": {
   "codemirror_mode": {
    "name": "ipython",
    "version": 3
   },
   "file_extension": ".py",
   "mimetype": "text/x-python",
   "name": "python",
   "nbconvert_exporter": "python",
   "pygments_lexer": "ipython3",
   "version": "3.7.4"
  }
 },
 "nbformat": 4,
 "nbformat_minor": 2
}
