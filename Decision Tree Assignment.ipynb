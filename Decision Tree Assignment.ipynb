{
 "cells": [
  {
   "cell_type": "code",
   "execution_count": 1,
   "metadata": {},
   "outputs": [
    {
     "name": "stderr",
     "output_type": "stream",
     "text": [
      "C:\\Users\\sumit\\Anaconda3\\lib\\site-packages\\statsmodels\\tools\\_testing.py:19: FutureWarning: pandas.util.testing is deprecated. Use the functions in the public API at pandas.testing instead.\n",
      "  import pandas.util.testing as tm\n"
     ]
    }
   ],
   "source": [
    "%matplotlib inline\n",
    "import numpy as np\n",
    "import pandas as pd\n",
    "import seaborn as sns\n",
    "import matplotlib.pyplot as plt\n",
    "from sklearn.model_selection import train_test_split\n",
    "from sklearn.tree import DecisionTreeClassifier\n",
    "from sklearn import metrics\n",
    "from sklearn.model_selection import RandomizedSearchCV\n",
    "\n",
    "sns.set_style('whitegrid')"
   ]
  },
  {
   "cell_type": "code",
   "execution_count": 2,
   "metadata": {},
   "outputs": [
    {
     "data": {
      "text/html": [
       "<div>\n",
       "<style scoped>\n",
       "    .dataframe tbody tr th:only-of-type {\n",
       "        vertical-align: middle;\n",
       "    }\n",
       "\n",
       "    .dataframe tbody tr th {\n",
       "        vertical-align: top;\n",
       "    }\n",
       "\n",
       "    .dataframe thead th {\n",
       "        text-align: right;\n",
       "    }\n",
       "</style>\n",
       "<table border=\"1\" class=\"dataframe\">\n",
       "  <thead>\n",
       "    <tr style=\"text-align: right;\">\n",
       "      <th></th>\n",
       "      <th>PassengerId</th>\n",
       "      <th>Survived</th>\n",
       "      <th>Pclass</th>\n",
       "      <th>Name</th>\n",
       "      <th>Sex</th>\n",
       "      <th>Age</th>\n",
       "      <th>SibSp</th>\n",
       "      <th>Parch</th>\n",
       "      <th>Ticket</th>\n",
       "      <th>Fare</th>\n",
       "      <th>Cabin</th>\n",
       "      <th>Embarked</th>\n",
       "    </tr>\n",
       "  </thead>\n",
       "  <tbody>\n",
       "    <tr>\n",
       "      <th>0</th>\n",
       "      <td>1</td>\n",
       "      <td>0</td>\n",
       "      <td>3</td>\n",
       "      <td>Braund, Mr. Owen Harris</td>\n",
       "      <td>male</td>\n",
       "      <td>22.0</td>\n",
       "      <td>1</td>\n",
       "      <td>0</td>\n",
       "      <td>A/5 21171</td>\n",
       "      <td>7.2500</td>\n",
       "      <td>NaN</td>\n",
       "      <td>S</td>\n",
       "    </tr>\n",
       "    <tr>\n",
       "      <th>1</th>\n",
       "      <td>2</td>\n",
       "      <td>1</td>\n",
       "      <td>1</td>\n",
       "      <td>Cumings, Mrs. John Bradley (Florence Briggs Th...</td>\n",
       "      <td>female</td>\n",
       "      <td>38.0</td>\n",
       "      <td>1</td>\n",
       "      <td>0</td>\n",
       "      <td>PC 17599</td>\n",
       "      <td>71.2833</td>\n",
       "      <td>C85</td>\n",
       "      <td>C</td>\n",
       "    </tr>\n",
       "    <tr>\n",
       "      <th>2</th>\n",
       "      <td>3</td>\n",
       "      <td>1</td>\n",
       "      <td>3</td>\n",
       "      <td>Heikkinen, Miss. Laina</td>\n",
       "      <td>female</td>\n",
       "      <td>26.0</td>\n",
       "      <td>0</td>\n",
       "      <td>0</td>\n",
       "      <td>STON/O2. 3101282</td>\n",
       "      <td>7.9250</td>\n",
       "      <td>NaN</td>\n",
       "      <td>S</td>\n",
       "    </tr>\n",
       "    <tr>\n",
       "      <th>3</th>\n",
       "      <td>4</td>\n",
       "      <td>1</td>\n",
       "      <td>1</td>\n",
       "      <td>Futrelle, Mrs. Jacques Heath (Lily May Peel)</td>\n",
       "      <td>female</td>\n",
       "      <td>35.0</td>\n",
       "      <td>1</td>\n",
       "      <td>0</td>\n",
       "      <td>113803</td>\n",
       "      <td>53.1000</td>\n",
       "      <td>C123</td>\n",
       "      <td>S</td>\n",
       "    </tr>\n",
       "    <tr>\n",
       "      <th>4</th>\n",
       "      <td>5</td>\n",
       "      <td>0</td>\n",
       "      <td>3</td>\n",
       "      <td>Allen, Mr. William Henry</td>\n",
       "      <td>male</td>\n",
       "      <td>35.0</td>\n",
       "      <td>0</td>\n",
       "      <td>0</td>\n",
       "      <td>373450</td>\n",
       "      <td>8.0500</td>\n",
       "      <td>NaN</td>\n",
       "      <td>S</td>\n",
       "    </tr>\n",
       "  </tbody>\n",
       "</table>\n",
       "</div>"
      ],
      "text/plain": [
       "   PassengerId  Survived  Pclass  \\\n",
       "0            1         0       3   \n",
       "1            2         1       1   \n",
       "2            3         1       3   \n",
       "3            4         1       1   \n",
       "4            5         0       3   \n",
       "\n",
       "                                                Name     Sex   Age  SibSp  \\\n",
       "0                            Braund, Mr. Owen Harris    male  22.0      1   \n",
       "1  Cumings, Mrs. John Bradley (Florence Briggs Th...  female  38.0      1   \n",
       "2                             Heikkinen, Miss. Laina  female  26.0      0   \n",
       "3       Futrelle, Mrs. Jacques Heath (Lily May Peel)  female  35.0      1   \n",
       "4                           Allen, Mr. William Henry    male  35.0      0   \n",
       "\n",
       "   Parch            Ticket     Fare Cabin Embarked  \n",
       "0      0         A/5 21171   7.2500   NaN        S  \n",
       "1      0          PC 17599  71.2833   C85        C  \n",
       "2      0  STON/O2. 3101282   7.9250   NaN        S  \n",
       "3      0            113803  53.1000  C123        S  \n",
       "4      0            373450   8.0500   NaN        S  "
      ]
     },
     "execution_count": 2,
     "metadata": {},
     "output_type": "execute_result"
    }
   ],
   "source": [
    "url = \"https://raw.githubusercontent.com/BigDataGal/Python-for-Data-Science/master/titanic-train.csv\"\n",
    "titanic = pd.read_csv(url)\n",
    "titanic.head()"
   ]
  },
  {
   "cell_type": "markdown",
   "metadata": {},
   "source": [
    "### Feature to be used\n",
    "\n",
    "*Independent Features*\n",
    "\n",
    "1. Pclass: Ticket class\t(1 = 1st, 2 = 2nd, 3 = 3rd)\n",
    "2. Sex\n",
    "3. Age\n",
    "4. SibSp -- # of siblings / spouses aboard the Titanic\n",
    "5. Parch -- # of parents / children aboard the Titanic\n",
    "6. Fare\n",
    "\n",
    "*Dependent Feature* \n",
    "- Survived -- 0 = No, 1 = Yes"
   ]
  },
  {
   "cell_type": "code",
   "execution_count": 3,
   "metadata": {},
   "outputs": [],
   "source": [
    "titanic = titanic[['Pclass','Sex','Age','SibSp','Parch','Fare','Survived']]"
   ]
  },
  {
   "cell_type": "code",
   "execution_count": 4,
   "metadata": {},
   "outputs": [
    {
     "data": {
      "text/html": [
       "<div>\n",
       "<style scoped>\n",
       "    .dataframe tbody tr th:only-of-type {\n",
       "        vertical-align: middle;\n",
       "    }\n",
       "\n",
       "    .dataframe tbody tr th {\n",
       "        vertical-align: top;\n",
       "    }\n",
       "\n",
       "    .dataframe thead th {\n",
       "        text-align: right;\n",
       "    }\n",
       "</style>\n",
       "<table border=\"1\" class=\"dataframe\">\n",
       "  <thead>\n",
       "    <tr style=\"text-align: right;\">\n",
       "      <th></th>\n",
       "      <th>Pclass</th>\n",
       "      <th>Sex</th>\n",
       "      <th>Age</th>\n",
       "      <th>SibSp</th>\n",
       "      <th>Parch</th>\n",
       "      <th>Fare</th>\n",
       "      <th>Survived</th>\n",
       "    </tr>\n",
       "  </thead>\n",
       "  <tbody>\n",
       "    <tr>\n",
       "      <th>0</th>\n",
       "      <td>3</td>\n",
       "      <td>male</td>\n",
       "      <td>22.0</td>\n",
       "      <td>1</td>\n",
       "      <td>0</td>\n",
       "      <td>7.2500</td>\n",
       "      <td>0</td>\n",
       "    </tr>\n",
       "    <tr>\n",
       "      <th>1</th>\n",
       "      <td>1</td>\n",
       "      <td>female</td>\n",
       "      <td>38.0</td>\n",
       "      <td>1</td>\n",
       "      <td>0</td>\n",
       "      <td>71.2833</td>\n",
       "      <td>1</td>\n",
       "    </tr>\n",
       "    <tr>\n",
       "      <th>2</th>\n",
       "      <td>3</td>\n",
       "      <td>female</td>\n",
       "      <td>26.0</td>\n",
       "      <td>0</td>\n",
       "      <td>0</td>\n",
       "      <td>7.9250</td>\n",
       "      <td>1</td>\n",
       "    </tr>\n",
       "    <tr>\n",
       "      <th>3</th>\n",
       "      <td>1</td>\n",
       "      <td>female</td>\n",
       "      <td>35.0</td>\n",
       "      <td>1</td>\n",
       "      <td>0</td>\n",
       "      <td>53.1000</td>\n",
       "      <td>1</td>\n",
       "    </tr>\n",
       "    <tr>\n",
       "      <th>4</th>\n",
       "      <td>3</td>\n",
       "      <td>male</td>\n",
       "      <td>35.0</td>\n",
       "      <td>0</td>\n",
       "      <td>0</td>\n",
       "      <td>8.0500</td>\n",
       "      <td>0</td>\n",
       "    </tr>\n",
       "  </tbody>\n",
       "</table>\n",
       "</div>"
      ],
      "text/plain": [
       "   Pclass     Sex   Age  SibSp  Parch     Fare  Survived\n",
       "0       3    male  22.0      1      0   7.2500         0\n",
       "1       1  female  38.0      1      0  71.2833         1\n",
       "2       3  female  26.0      0      0   7.9250         1\n",
       "3       1  female  35.0      1      0  53.1000         1\n",
       "4       3    male  35.0      0      0   8.0500         0"
      ]
     },
     "execution_count": 4,
     "metadata": {},
     "output_type": "execute_result"
    }
   ],
   "source": [
    "titanic.head()"
   ]
  },
  {
   "cell_type": "code",
   "execution_count": 5,
   "metadata": {},
   "outputs": [
    {
     "name": "stdout",
     "output_type": "stream",
     "text": [
      "<class 'pandas.core.frame.DataFrame'>\n",
      "RangeIndex: 891 entries, 0 to 890\n",
      "Data columns (total 7 columns):\n",
      " #   Column    Non-Null Count  Dtype  \n",
      "---  ------    --------------  -----  \n",
      " 0   Pclass    891 non-null    int64  \n",
      " 1   Sex       891 non-null    object \n",
      " 2   Age       714 non-null    float64\n",
      " 3   SibSp     891 non-null    int64  \n",
      " 4   Parch     891 non-null    int64  \n",
      " 5   Fare      891 non-null    float64\n",
      " 6   Survived  891 non-null    int64  \n",
      "dtypes: float64(2), int64(4), object(1)\n",
      "memory usage: 48.9+ KB\n"
     ]
    }
   ],
   "source": [
    "titanic.info()"
   ]
  },
  {
   "cell_type": "code",
   "execution_count": 6,
   "metadata": {},
   "outputs": [
    {
     "data": {
      "text/plain": [
       "Pclass        0\n",
       "Sex           0\n",
       "Age         177\n",
       "SibSp         0\n",
       "Parch         0\n",
       "Fare          0\n",
       "Survived      0\n",
       "dtype: int64"
      ]
     },
     "execution_count": 6,
     "metadata": {},
     "output_type": "execute_result"
    }
   ],
   "source": [
    "titanic.isnull().sum()"
   ]
  },
  {
   "cell_type": "code",
   "execution_count": 7,
   "metadata": {},
   "outputs": [
    {
     "data": {
      "text/plain": [
       "<matplotlib.axes._subplots.AxesSubplot at 0x20a0e14e108>"
      ]
     },
     "execution_count": 7,
     "metadata": {},
     "output_type": "execute_result"
    },
    {
     "data": {
      "image/png": "[encoded data removed]",
      "text/plain": [
       "<Figure size 432x288 with 1 Axes>"
      ]
     },
     "metadata": {
      "needs_background": "light"
     },
     "output_type": "display_data"
    }
   ],
   "source": [
    "sns.distplot(titanic['Age'].dropna())"
   ]
  },
  {
   "cell_type": "markdown",
   "metadata": {},
   "source": [
    "### we can see that the Age feature is fairly a Guassian ditribution. Also there is no such outlier. Hence, we can replace the null values with the mean age"
   ]
  },
  {
   "cell_type": "code",
   "execution_count": 8,
   "metadata": {},
   "outputs": [],
   "source": [
    "titanic['Age'] = titanic['Age'].fillna(titanic['Age'].mean())"
   ]
  },
  {
   "cell_type": "code",
   "execution_count": 9,
   "metadata": {},
   "outputs": [
    {
     "data": {
      "text/plain": [
       "Pclass      0\n",
       "Sex         0\n",
       "Age         0\n",
       "SibSp       0\n",
       "Parch       0\n",
       "Fare        0\n",
       "Survived    0\n",
       "dtype: int64"
      ]
     },
     "execution_count": 9,
     "metadata": {},
     "output_type": "execute_result"
    }
   ],
   "source": [
    "titanic.isnull().sum()"
   ]
  },
  {
   "cell_type": "code",
   "execution_count": 10,
   "metadata": {},
   "outputs": [
    {
     "data": {
      "text/plain": [
       "<BarContainer object of 3 artists>"
      ]
     },
     "execution_count": 10,
     "metadata": {},
     "output_type": "execute_result"
    },
    {
     "data": {
      "image/png": "[encoded data removed]",
      "text/plain": [
       "<Figure size 432x288 with 1 Axes>"
      ]
     },
     "metadata": {
      "needs_background": "light"
     },
     "output_type": "display_data"
    }
   ],
   "source": [
    "a = titanic['Pclass'].value_counts()\n",
    "plt.bar(a.index,a.values)"
   ]
  },
  {
   "cell_type": "code",
   "execution_count": 11,
   "metadata": {},
   "outputs": [
    {
     "data": {
      "text/plain": [
       "<BarContainer object of 2 artists>"
      ]
     },
     "execution_count": 11,
     "metadata": {},
     "output_type": "execute_result"
    },
    {
     "data": {
      "image/png": "[encoded data removed]",
      "text/plain": [
       "<Figure size 432x288 with 1 Axes>"
      ]
     },
     "metadata": {
      "needs_background": "light"
     },
     "output_type": "display_data"
    }
   ],
   "source": [
    "a = titanic['Sex'].value_counts()\n",
    "plt.bar(a.index,a.values)"
   ]
  },
  {
   "cell_type": "code",
   "execution_count": 12,
   "metadata": {},
   "outputs": [
    {
     "data": {
      "text/plain": [
       "<BarContainer object of 7 artists>"
      ]
     },
     "execution_count": 12,
     "metadata": {},
     "output_type": "execute_result"
    },
    {
     "data": {
      "image/png": "[encoded data removed]",
      "text/plain": [
       "<Figure size 432x288 with 1 Axes>"
      ]
     },
     "metadata": {
      "needs_background": "light"
     },
     "output_type": "display_data"
    }
   ],
   "source": [
    "a = titanic['SibSp'].value_counts()\n",
    "plt.bar(a.index,a.values)"
   ]
  },
  {
   "cell_type": "code",
   "execution_count": 13,
   "metadata": {},
   "outputs": [
    {
     "data": {
      "text/plain": [
       "<BarContainer object of 7 artists>"
      ]
     },
     "execution_count": 13,
     "metadata": {},
     "output_type": "execute_result"
    },
    {
     "data": {
      "image/png": "[encoded data removed]",
      "text/plain": [
       "<Figure size 432x288 with 1 Axes>"
      ]
     },
     "metadata": {
      "needs_background": "light"
     },
     "output_type": "display_data"
    }
   ],
   "source": [
    "a = titanic['Parch'].value_counts()\n",
    "plt.bar(a.index,a.values)"
   ]
  },
  {
   "cell_type": "code",
   "execution_count": 14,
   "metadata": {},
   "outputs": [
    {
     "data": {
      "text/plain": [
       "<BarContainer object of 2 artists>"
      ]
     },
     "execution_count": 14,
     "metadata": {},
     "output_type": "execute_result"
    },
    {
     "data": {
      "image/png": "[encoded data removed]",
      "text/plain": [
       "<Figure size 432x288 with 1 Axes>"
      ]
     },
     "metadata": {
      "needs_background": "light"
     },
     "output_type": "display_data"
    }
   ],
   "source": [
    "a = titanic['Survived'].value_counts()\n",
    "plt.bar(a.index,a.values)"
   ]
  },
  {
   "cell_type": "code",
   "execution_count": 15,
   "metadata": {},
   "outputs": [
    {
     "data": {
      "text/html": [
       "<div>\n",
       "<style scoped>\n",
       "    .dataframe tbody tr th:only-of-type {\n",
       "        vertical-align: middle;\n",
       "    }\n",
       "\n",
       "    .dataframe tbody tr th {\n",
       "        vertical-align: top;\n",
       "    }\n",
       "\n",
       "    .dataframe thead th {\n",
       "        text-align: right;\n",
       "    }\n",
       "</style>\n",
       "<table border=\"1\" class=\"dataframe\">\n",
       "  <thead>\n",
       "    <tr style=\"text-align: right;\">\n",
       "      <th>Survived</th>\n",
       "      <th>0</th>\n",
       "      <th>1</th>\n",
       "    </tr>\n",
       "    <tr>\n",
       "      <th>Sex</th>\n",
       "      <th></th>\n",
       "      <th></th>\n",
       "    </tr>\n",
       "  </thead>\n",
       "  <tbody>\n",
       "    <tr>\n",
       "      <th>female</th>\n",
       "      <td>81</td>\n",
       "      <td>233</td>\n",
       "    </tr>\n",
       "    <tr>\n",
       "      <th>male</th>\n",
       "      <td>468</td>\n",
       "      <td>109</td>\n",
       "    </tr>\n",
       "  </tbody>\n",
       "</table>\n",
       "</div>"
      ],
      "text/plain": [
       "Survived    0    1\n",
       "Sex               \n",
       "female     81  233\n",
       "male      468  109"
      ]
     },
     "execution_count": 15,
     "metadata": {},
     "output_type": "execute_result"
    }
   ],
   "source": [
    "Gender = pd.crosstab(index=titanic['Sex'],columns=titanic['Survived'])\n",
    "Gender"
   ]
  },
  {
   "cell_type": "code",
   "execution_count": 16,
   "metadata": {},
   "outputs": [
    {
     "data": {
      "text/html": [
       "<div>\n",
       "<style scoped>\n",
       "    .dataframe tbody tr th:only-of-type {\n",
       "        vertical-align: middle;\n",
       "    }\n",
       "\n",
       "    .dataframe tbody tr th {\n",
       "        vertical-align: top;\n",
       "    }\n",
       "\n",
       "    .dataframe thead th {\n",
       "        text-align: right;\n",
       "    }\n",
       "</style>\n",
       "<table border=\"1\" class=\"dataframe\">\n",
       "  <thead>\n",
       "    <tr style=\"text-align: right;\">\n",
       "      <th>Survived</th>\n",
       "      <th>0</th>\n",
       "      <th>1</th>\n",
       "    </tr>\n",
       "    <tr>\n",
       "      <th>Sex</th>\n",
       "      <th></th>\n",
       "      <th></th>\n",
       "    </tr>\n",
       "  </thead>\n",
       "  <tbody>\n",
       "    <tr>\n",
       "      <th>female</th>\n",
       "      <td>0.257962</td>\n",
       "      <td>0.742038</td>\n",
       "    </tr>\n",
       "    <tr>\n",
       "      <th>male</th>\n",
       "      <td>0.811092</td>\n",
       "      <td>0.188908</td>\n",
       "    </tr>\n",
       "  </tbody>\n",
       "</table>\n",
       "</div>"
      ],
      "text/plain": [
       "Survived         0         1\n",
       "Sex                         \n",
       "female    0.257962  0.742038\n",
       "male      0.811092  0.188908"
      ]
     },
     "execution_count": 16,
     "metadata": {},
     "output_type": "execute_result"
    }
   ],
   "source": [
    "Gender.div(Gender.sum(1).astype(float),axis=0)"
   ]
  },
  {
   "cell_type": "code",
   "execution_count": 17,
   "metadata": {},
   "outputs": [
    {
     "data": {
      "text/plain": [
       "<matplotlib.axes._subplots.AxesSubplot at 0x20a0e772ec8>"
      ]
     },
     "execution_count": 17,
     "metadata": {},
     "output_type": "execute_result"
    },
    {
     "data": {
      "image/png": "[encoded data removed]",
      "text/plain": [
       "<Figure size 432x288 with 1 Axes>"
      ]
     },
     "metadata": {
      "needs_background": "light"
     },
     "output_type": "display_data"
    }
   ],
   "source": [
    "Gender.div(Gender.sum(1).astype(float),axis=0).plot.bar(stacked=False)"
   ]
  },
  {
   "cell_type": "markdown",
   "metadata": {},
   "source": [
    "* We can clearly see that percentage of females survived more as compared to males"
   ]
  },
  {
   "cell_type": "code",
   "execution_count": 18,
   "metadata": {},
   "outputs": [
    {
     "name": "stdout",
     "output_type": "stream",
     "text": [
      "Max Age : 80.0\n",
      "Min Age : 0.42\n"
     ]
    }
   ],
   "source": [
    "print('Max Age : {}'.format(titanic['Age'].max()))\n",
    "print('Min Age : {}'.format(titanic['Age'].min()))"
   ]
  },
  {
   "cell_type": "markdown",
   "metadata": {},
   "source": [
    "#### Let's categorise the Age Feature as children, Youth, Adult,Seniors"
   ]
  },
  {
   "cell_type": "code",
   "execution_count": 19,
   "metadata": {},
   "outputs": [],
   "source": [
    "category = ['Children','Youth','Adult','Seniors']\n",
    "\n",
    "for item in titanic:\n",
    "    titanic['AgeCategory'] = pd.cut(titanic['Age'], bins=[0,14,24,64,81], labels = category)\n",
    "   "
   ]
  },
  {
   "cell_type": "code",
   "execution_count": 20,
   "metadata": {},
   "outputs": [
    {
     "data": {
      "text/html": [
       "<div>\n",
       "<style scoped>\n",
       "    .dataframe tbody tr th:only-of-type {\n",
       "        vertical-align: middle;\n",
       "    }\n",
       "\n",
       "    .dataframe tbody tr th {\n",
       "        vertical-align: top;\n",
       "    }\n",
       "\n",
       "    .dataframe thead th {\n",
       "        text-align: right;\n",
       "    }\n",
       "</style>\n",
       "<table border=\"1\" class=\"dataframe\">\n",
       "  <thead>\n",
       "    <tr style=\"text-align: right;\">\n",
       "      <th></th>\n",
       "      <th>Pclass</th>\n",
       "      <th>Sex</th>\n",
       "      <th>Age</th>\n",
       "      <th>SibSp</th>\n",
       "      <th>Parch</th>\n",
       "      <th>Fare</th>\n",
       "      <th>Survived</th>\n",
       "      <th>AgeCategory</th>\n",
       "    </tr>\n",
       "  </thead>\n",
       "  <tbody>\n",
       "    <tr>\n",
       "      <th>0</th>\n",
       "      <td>3</td>\n",
       "      <td>male</td>\n",
       "      <td>22.0</td>\n",
       "      <td>1</td>\n",
       "      <td>0</td>\n",
       "      <td>7.2500</td>\n",
       "      <td>0</td>\n",
       "      <td>Youth</td>\n",
       "    </tr>\n",
       "    <tr>\n",
       "      <th>1</th>\n",
       "      <td>1</td>\n",
       "      <td>female</td>\n",
       "      <td>38.0</td>\n",
       "      <td>1</td>\n",
       "      <td>0</td>\n",
       "      <td>71.2833</td>\n",
       "      <td>1</td>\n",
       "      <td>Adult</td>\n",
       "    </tr>\n",
       "    <tr>\n",
       "      <th>2</th>\n",
       "      <td>3</td>\n",
       "      <td>female</td>\n",
       "      <td>26.0</td>\n",
       "      <td>0</td>\n",
       "      <td>0</td>\n",
       "      <td>7.9250</td>\n",
       "      <td>1</td>\n",
       "      <td>Adult</td>\n",
       "    </tr>\n",
       "    <tr>\n",
       "      <th>3</th>\n",
       "      <td>1</td>\n",
       "      <td>female</td>\n",
       "      <td>35.0</td>\n",
       "      <td>1</td>\n",
       "      <td>0</td>\n",
       "      <td>53.1000</td>\n",
       "      <td>1</td>\n",
       "      <td>Adult</td>\n",
       "    </tr>\n",
       "    <tr>\n",
       "      <th>4</th>\n",
       "      <td>3</td>\n",
       "      <td>male</td>\n",
       "      <td>35.0</td>\n",
       "      <td>0</td>\n",
       "      <td>0</td>\n",
       "      <td>8.0500</td>\n",
       "      <td>0</td>\n",
       "      <td>Adult</td>\n",
       "    </tr>\n",
       "  </tbody>\n",
       "</table>\n",
       "</div>"
      ],
      "text/plain": [
       "   Pclass     Sex   Age  SibSp  Parch     Fare  Survived AgeCategory\n",
       "0       3    male  22.0      1      0   7.2500         0       Youth\n",
       "1       1  female  38.0      1      0  71.2833         1       Adult\n",
       "2       3  female  26.0      0      0   7.9250         1       Adult\n",
       "3       1  female  35.0      1      0  53.1000         1       Adult\n",
       "4       3    male  35.0      0      0   8.0500         0       Adult"
      ]
     },
     "execution_count": 20,
     "metadata": {},
     "output_type": "execute_result"
    }
   ],
   "source": [
    "titanic.head()"
   ]
  },
  {
   "cell_type": "code",
   "execution_count": 21,
   "metadata": {},
   "outputs": [
    {
     "data": {
      "text/plain": [
       "<matplotlib.axes._subplots.AxesSubplot at 0x20a0e8124c8>"
      ]
     },
     "execution_count": 21,
     "metadata": {},
     "output_type": "execute_result"
    },
    {
     "data": {
      "image/png": "[encoded data removed]",
      "text/plain": [
       "<Figure size 432x288 with 1 Axes>"
      ]
     },
     "metadata": {
      "needs_background": "light"
     },
     "output_type": "display_data"
    }
   ],
   "source": [
    "sns.barplot(x='AgeCategory', y='Survived',data = titanic)"
   ]
  },
  {
   "cell_type": "code",
   "execution_count": 22,
   "metadata": {},
   "outputs": [
    {
     "data": {
      "text/plain": [
       "<matplotlib.axes._subplots.AxesSubplot at 0x20a0e8833c8>"
      ]
     },
     "execution_count": 22,
     "metadata": {},
     "output_type": "execute_result"
    },
    {
     "data": {
      "image/png": "[encoded data removed]",
      "text/plain": [
       "<Figure size 432x288 with 1 Axes>"
      ]
     },
     "metadata": {
      "needs_background": "light"
     },
     "output_type": "display_data"
    }
   ],
   "source": [
    "sns.countplot(x='AgeCategory',hue='Survived',data = titanic)"
   ]
  },
  {
   "cell_type": "markdown",
   "metadata": {},
   "source": [
    "### Ticket class vs Survived"
   ]
  },
  {
   "cell_type": "code",
   "execution_count": 23,
   "metadata": {},
   "outputs": [
    {
     "data": {
      "text/html": [
       "<div>\n",
       "<style scoped>\n",
       "    .dataframe tbody tr th:only-of-type {\n",
       "        vertical-align: middle;\n",
       "    }\n",
       "\n",
       "    .dataframe tbody tr th {\n",
       "        vertical-align: top;\n",
       "    }\n",
       "\n",
       "    .dataframe thead th {\n",
       "        text-align: right;\n",
       "    }\n",
       "</style>\n",
       "<table border=\"1\" class=\"dataframe\">\n",
       "  <thead>\n",
       "    <tr style=\"text-align: right;\">\n",
       "      <th>Survived</th>\n",
       "      <th>0</th>\n",
       "      <th>1</th>\n",
       "    </tr>\n",
       "    <tr>\n",
       "      <th>Pclass</th>\n",
       "      <th></th>\n",
       "      <th></th>\n",
       "    </tr>\n",
       "  </thead>\n",
       "  <tbody>\n",
       "    <tr>\n",
       "      <th>1</th>\n",
       "      <td>80</td>\n",
       "      <td>136</td>\n",
       "    </tr>\n",
       "    <tr>\n",
       "      <th>2</th>\n",
       "      <td>97</td>\n",
       "      <td>87</td>\n",
       "    </tr>\n",
       "    <tr>\n",
       "      <th>3</th>\n",
       "      <td>372</td>\n",
       "      <td>119</td>\n",
       "    </tr>\n",
       "  </tbody>\n",
       "</table>\n",
       "</div>"
      ],
      "text/plain": [
       "Survived    0    1\n",
       "Pclass            \n",
       "1          80  136\n",
       "2          97   87\n",
       "3         372  119"
      ]
     },
     "execution_count": 23,
     "metadata": {},
     "output_type": "execute_result"
    }
   ],
   "source": [
    "Class = pd.crosstab(index = titanic['Pclass'],columns = titanic['Survived'])\n",
    "Class"
   ]
  },
  {
   "cell_type": "code",
   "execution_count": 24,
   "metadata": {},
   "outputs": [
    {
     "data": {
      "text/plain": [
       "<matplotlib.axes._subplots.AxesSubplot at 0x20a0e922848>"
      ]
     },
     "execution_count": 24,
     "metadata": {},
     "output_type": "execute_result"
    },
    {
     "data": {
      "image/png": "[encoded data removed]",
      "text/plain": [
       "<Figure size 432x288 with 1 Axes>"
      ]
     },
     "metadata": {
      "needs_background": "light"
     },
     "output_type": "display_data"
    }
   ],
   "source": [
    "Class.div(Class.sum(1).astype(float),axis=0).plot.bar(stacked = False)"
   ]
  },
  {
   "cell_type": "markdown",
   "metadata": {},
   "source": [
    "1. We can observe that around 65% of people survived having class-1 ticket.\n",
    "2. For Class-2, it was 45-55 percent chances.\n",
    "3. For class-3, the survival rate was very low i.e, near to 25%"
   ]
  },
  {
   "cell_type": "code",
   "execution_count": 25,
   "metadata": {},
   "outputs": [
    {
     "data": {
      "text/plain": [
       "<matplotlib.axes._subplots.AxesSubplot at 0x20a0e987548>"
      ]
     },
     "execution_count": 25,
     "metadata": {},
     "output_type": "execute_result"
    },
    {
     "data": {
      "image/png": "[encoded data removed]",
      "text/plain": [
       "<Figure size 432x288 with 1 Axes>"
      ]
     },
     "metadata": {
      "needs_background": "light"
     },
     "output_type": "display_data"
    }
   ],
   "source": [
    "sns.distplot(titanic['Fare'])"
   ]
  },
  {
   "cell_type": "code",
   "execution_count": 26,
   "metadata": {},
   "outputs": [
    {
     "data": {
      "text/plain": [
       "<matplotlib.axes._subplots.AxesSubplot at 0x20a0ea83248>"
      ]
     },
     "execution_count": 26,
     "metadata": {},
     "output_type": "execute_result"
    },
    {
     "data": {
      "image/png": "[encoded data removed]",
      "text/plain": [
       "<Figure size 432x288 with 1 Axes>"
      ]
     },
     "metadata": {
      "needs_background": "light"
     },
     "output_type": "display_data"
    }
   ],
   "source": [
    "sns.boxplot( y= 'Fare',x='Survived',data=titanic,orient='v')"
   ]
  },
  {
   "cell_type": "markdown",
   "metadata": {},
   "source": [
    "* We can see that there are many outliers in the Fare distribution*"
   ]
  },
  {
   "cell_type": "markdown",
   "metadata": {},
   "source": [
    "#### Let's divide the fare in some categories an then also see that if Pclass and Fare are related or not"
   ]
  },
  {
   "cell_type": "code",
   "execution_count": 27,
   "metadata": {},
   "outputs": [
    {
     "data": {
      "text/html": [
       "<div>\n",
       "<style scoped>\n",
       "    .dataframe tbody tr th:only-of-type {\n",
       "        vertical-align: middle;\n",
       "    }\n",
       "\n",
       "    .dataframe tbody tr th {\n",
       "        vertical-align: top;\n",
       "    }\n",
       "\n",
       "    .dataframe thead th {\n",
       "        text-align: right;\n",
       "    }\n",
       "</style>\n",
       "<table border=\"1\" class=\"dataframe\">\n",
       "  <thead>\n",
       "    <tr style=\"text-align: right;\">\n",
       "      <th></th>\n",
       "      <th>Pclass</th>\n",
       "      <th>Sex</th>\n",
       "      <th>Age</th>\n",
       "      <th>SibSp</th>\n",
       "      <th>Parch</th>\n",
       "      <th>Fare</th>\n",
       "      <th>Survived</th>\n",
       "      <th>AgeCategory</th>\n",
       "      <th>FareCategory</th>\n",
       "    </tr>\n",
       "  </thead>\n",
       "  <tbody>\n",
       "    <tr>\n",
       "      <th>0</th>\n",
       "      <td>3</td>\n",
       "      <td>male</td>\n",
       "      <td>22.0</td>\n",
       "      <td>1</td>\n",
       "      <td>0</td>\n",
       "      <td>7.2500</td>\n",
       "      <td>0</td>\n",
       "      <td>Youth</td>\n",
       "      <td>Low Fare</td>\n",
       "    </tr>\n",
       "    <tr>\n",
       "      <th>1</th>\n",
       "      <td>1</td>\n",
       "      <td>female</td>\n",
       "      <td>38.0</td>\n",
       "      <td>1</td>\n",
       "      <td>0</td>\n",
       "      <td>71.2833</td>\n",
       "      <td>1</td>\n",
       "      <td>Adult</td>\n",
       "      <td>Average Fare</td>\n",
       "    </tr>\n",
       "    <tr>\n",
       "      <th>2</th>\n",
       "      <td>3</td>\n",
       "      <td>female</td>\n",
       "      <td>26.0</td>\n",
       "      <td>0</td>\n",
       "      <td>0</td>\n",
       "      <td>7.9250</td>\n",
       "      <td>1</td>\n",
       "      <td>Adult</td>\n",
       "      <td>Low Fare</td>\n",
       "    </tr>\n",
       "    <tr>\n",
       "      <th>3</th>\n",
       "      <td>1</td>\n",
       "      <td>female</td>\n",
       "      <td>35.0</td>\n",
       "      <td>1</td>\n",
       "      <td>0</td>\n",
       "      <td>53.1000</td>\n",
       "      <td>1</td>\n",
       "      <td>Adult</td>\n",
       "      <td>Average Fare</td>\n",
       "    </tr>\n",
       "    <tr>\n",
       "      <th>4</th>\n",
       "      <td>3</td>\n",
       "      <td>male</td>\n",
       "      <td>35.0</td>\n",
       "      <td>0</td>\n",
       "      <td>0</td>\n",
       "      <td>8.0500</td>\n",
       "      <td>0</td>\n",
       "      <td>Adult</td>\n",
       "      <td>Low Fare</td>\n",
       "    </tr>\n",
       "  </tbody>\n",
       "</table>\n",
       "</div>"
      ],
      "text/plain": [
       "   Pclass     Sex   Age  SibSp  Parch     Fare  Survived AgeCategory  \\\n",
       "0       3    male  22.0      1      0   7.2500         0       Youth   \n",
       "1       1  female  38.0      1      0  71.2833         1       Adult   \n",
       "2       3  female  26.0      0      0   7.9250         1       Adult   \n",
       "3       1  female  35.0      1      0  53.1000         1       Adult   \n",
       "4       3    male  35.0      0      0   8.0500         0       Adult   \n",
       "\n",
       "   FareCategory  \n",
       "0      Low Fare  \n",
       "1  Average Fare  \n",
       "2      Low Fare  \n",
       "3  Average Fare  \n",
       "4      Low Fare  "
      ]
     },
     "execution_count": 27,
     "metadata": {},
     "output_type": "execute_result"
    }
   ],
   "source": [
    "categories = ['Low Fare','Medium Fare','Average Fare','High Fare']\n",
    "\n",
    "for item in titanic:\n",
    "    titanic['FareCategory'] = pd.cut(titanic['Fare'],bins=[0,10,50,100,550],labels = categories)\n",
    "    \n",
    "titanic.head()"
   ]
  },
  {
   "cell_type": "code",
   "execution_count": 28,
   "metadata": {},
   "outputs": [
    {
     "data": {
      "text/plain": [
       "<matplotlib.axes._subplots.AxesSubplot at 0x20a0eb15bc8>"
      ]
     },
     "execution_count": 28,
     "metadata": {},
     "output_type": "execute_result"
    },
    {
     "data": {
      "image/png": "[encoded data removed]",
      "text/plain": [
       "<Figure size 432x288 with 1 Axes>"
      ]
     },
     "metadata": {
      "needs_background": "light"
     },
     "output_type": "display_data"
    }
   ],
   "source": [
    "sns.countplot(x='FareCategory',hue='Survived',data=titanic)"
   ]
  },
  {
   "cell_type": "code",
   "execution_count": 29,
   "metadata": {},
   "outputs": [
    {
     "data": {
      "image/png": "[encoded data removed]",
      "text/plain": [
       "<Figure size 720x360 with 1 Axes>"
      ]
     },
     "metadata": {
      "needs_background": "light"
     },
     "output_type": "display_data"
    }
   ],
   "source": [
    "plt.figure(figsize=(10,5))\n",
    "ax = sns.countplot(x='Pclass',hue='FareCategory',data=titanic)"
   ]
  },
  {
   "cell_type": "markdown",
   "metadata": {},
   "source": [
    "*From 1st barplot above: *\n",
    "1. 60-70% people survived having higher fare.\n",
    "2. Only 20-30% People survived having low fare.\n",
    "\n",
    "*From 2nd Barplot above: *\n",
    "1. People belonging to 1st class have been charged high fare.\n",
    "2. People belonging to 2nd class have medium fare.\n",
    "3. People belonging to 3rd class have low fare and are less likely to survive.\n",
    "\n"
   ]
  },
  {
   "cell_type": "code",
   "execution_count": 30,
   "metadata": {},
   "outputs": [],
   "source": [
    "### Checking SibPs and Parch features"
   ]
  },
  {
   "cell_type": "markdown",
   "metadata": {},
   "source": [
    "1. sibsp: The dataset defines family relations in this way...\n",
    "\n",
    "Sibling = brother, sister, stepbrother, stepsister\n",
    "Spouse = husband, wife (mistresses and fiancés were ignored)\n",
    "\n",
    "\n",
    "\n",
    "\n",
    "2. parch: The dataset defines family relations in this way...\n",
    "\n",
    "Parent = mother, father\n",
    "Child = daughter, son, stepdaughter, stepson\n",
    "Some children travelled only with a nanny, therefore parch=0 for them."
   ]
  },
  {
   "cell_type": "markdown",
   "metadata": {},
   "source": [
    "##### Let us combine both the feature and form a single feature and then see if it is anyway related to the survival of the passenger."
   ]
  },
  {
   "cell_type": "code",
   "execution_count": 31,
   "metadata": {},
   "outputs": [
    {
     "data": {
      "text/html": [
       "<div>\n",
       "<style scoped>\n",
       "    .dataframe tbody tr th:only-of-type {\n",
       "        vertical-align: middle;\n",
       "    }\n",
       "\n",
       "    .dataframe tbody tr th {\n",
       "        vertical-align: top;\n",
       "    }\n",
       "\n",
       "    .dataframe thead th {\n",
       "        text-align: right;\n",
       "    }\n",
       "</style>\n",
       "<table border=\"1\" class=\"dataframe\">\n",
       "  <thead>\n",
       "    <tr style=\"text-align: right;\">\n",
       "      <th></th>\n",
       "      <th>Pclass</th>\n",
       "      <th>Sex</th>\n",
       "      <th>Age</th>\n",
       "      <th>SibSp</th>\n",
       "      <th>Parch</th>\n",
       "      <th>Fare</th>\n",
       "      <th>Survived</th>\n",
       "      <th>AgeCategory</th>\n",
       "      <th>FareCategory</th>\n",
       "      <th>Family</th>\n",
       "    </tr>\n",
       "  </thead>\n",
       "  <tbody>\n",
       "    <tr>\n",
       "      <th>0</th>\n",
       "      <td>3</td>\n",
       "      <td>male</td>\n",
       "      <td>22.0</td>\n",
       "      <td>1</td>\n",
       "      <td>0</td>\n",
       "      <td>7.2500</td>\n",
       "      <td>0</td>\n",
       "      <td>Youth</td>\n",
       "      <td>Low Fare</td>\n",
       "      <td>2</td>\n",
       "    </tr>\n",
       "    <tr>\n",
       "      <th>1</th>\n",
       "      <td>1</td>\n",
       "      <td>female</td>\n",
       "      <td>38.0</td>\n",
       "      <td>1</td>\n",
       "      <td>0</td>\n",
       "      <td>71.2833</td>\n",
       "      <td>1</td>\n",
       "      <td>Adult</td>\n",
       "      <td>Average Fare</td>\n",
       "      <td>2</td>\n",
       "    </tr>\n",
       "    <tr>\n",
       "      <th>2</th>\n",
       "      <td>3</td>\n",
       "      <td>female</td>\n",
       "      <td>26.0</td>\n",
       "      <td>0</td>\n",
       "      <td>0</td>\n",
       "      <td>7.9250</td>\n",
       "      <td>1</td>\n",
       "      <td>Adult</td>\n",
       "      <td>Low Fare</td>\n",
       "      <td>1</td>\n",
       "    </tr>\n",
       "    <tr>\n",
       "      <th>3</th>\n",
       "      <td>1</td>\n",
       "      <td>female</td>\n",
       "      <td>35.0</td>\n",
       "      <td>1</td>\n",
       "      <td>0</td>\n",
       "      <td>53.1000</td>\n",
       "      <td>1</td>\n",
       "      <td>Adult</td>\n",
       "      <td>Average Fare</td>\n",
       "      <td>2</td>\n",
       "    </tr>\n",
       "    <tr>\n",
       "      <th>4</th>\n",
       "      <td>3</td>\n",
       "      <td>male</td>\n",
       "      <td>35.0</td>\n",
       "      <td>0</td>\n",
       "      <td>0</td>\n",
       "      <td>8.0500</td>\n",
       "      <td>0</td>\n",
       "      <td>Adult</td>\n",
       "      <td>Low Fare</td>\n",
       "      <td>1</td>\n",
       "    </tr>\n",
       "  </tbody>\n",
       "</table>\n",
       "</div>"
      ],
      "text/plain": [
       "   Pclass     Sex   Age  SibSp  Parch     Fare  Survived AgeCategory  \\\n",
       "0       3    male  22.0      1      0   7.2500         0       Youth   \n",
       "1       1  female  38.0      1      0  71.2833         1       Adult   \n",
       "2       3  female  26.0      0      0   7.9250         1       Adult   \n",
       "3       1  female  35.0      1      0  53.1000         1       Adult   \n",
       "4       3    male  35.0      0      0   8.0500         0       Adult   \n",
       "\n",
       "   FareCategory  Family  \n",
       "0      Low Fare       2  \n",
       "1  Average Fare       2  \n",
       "2      Low Fare       1  \n",
       "3  Average Fare       2  \n",
       "4      Low Fare       1  "
      ]
     },
     "execution_count": 31,
     "metadata": {},
     "output_type": "execute_result"
    }
   ],
   "source": [
    "for item in titanic:\n",
    "    titanic['Family'] = titanic['SibSp']+titanic['Parch']+1\n",
    "\n",
    "titanic.head()"
   ]
  },
  {
   "cell_type": "code",
   "execution_count": 32,
   "metadata": {},
   "outputs": [
    {
     "data": {
      "text/plain": [
       "<matplotlib.axes._subplots.AxesSubplot at 0x20a0fbf3e08>"
      ]
     },
     "execution_count": 32,
     "metadata": {},
     "output_type": "execute_result"
    },
    {
     "data": {
      "image/png": "[encoded data removed]",
      "text/plain": [
       "<Figure size 432x288 with 1 Axes>"
      ]
     },
     "metadata": {
      "needs_background": "light"
     },
     "output_type": "display_data"
    }
   ],
   "source": [
    "sns.countplot(x='Family',hue='Survived',data=titanic)"
   ]
  },
  {
   "cell_type": "markdown",
   "metadata": {},
   "source": [
    "1. We can conclde that the family of 2,3,4 have higher probability of suriving.\n",
    "2. On the otherhand, People who were travelling alone had very less probability of surviving."
   ]
  },
  {
   "cell_type": "markdown",
   "metadata": {},
   "source": [
    "#### Let us see how the fetures are correlated to the dependent feature"
   ]
  },
  {
   "cell_type": "code",
   "execution_count": 33,
   "metadata": {},
   "outputs": [
    {
     "data": {
      "text/plain": [
       "Pclass     -0.338481\n",
       "Age        -0.069809\n",
       "SibSp      -0.035322\n",
       "Family      0.016639\n",
       "Parch       0.081629\n",
       "Fare        0.257307\n",
       "Survived    1.000000\n",
       "Name: Survived, dtype: float64"
      ]
     },
     "execution_count": 33,
     "metadata": {},
     "output_type": "execute_result"
    }
   ],
   "source": [
    "titanic.corr()['Survived'].sort_values()"
   ]
  },
  {
   "cell_type": "code",
   "execution_count": 34,
   "metadata": {},
   "outputs": [
    {
     "data": {
      "text/plain": [
       "<matplotlib.axes._subplots.AxesSubplot at 0x20a0fca6088>"
      ]
     },
     "execution_count": 34,
     "metadata": {},
     "output_type": "execute_result"
    },
    {
     "data": {
      "image/png": "[encoded data removed]",
      "text/plain": [
       "<Figure size 432x288 with 2 Axes>"
      ]
     },
     "metadata": {
      "needs_background": "light"
     },
     "output_type": "display_data"
    }
   ],
   "source": [
    "sns.heatmap(data=titanic.corr(),annot = True)"
   ]
  },
  {
   "cell_type": "markdown",
   "metadata": {},
   "source": [
    "# Feature Engineering"
   ]
  },
  {
   "cell_type": "code",
   "execution_count": 35,
   "metadata": {},
   "outputs": [
    {
     "data": {
      "text/html": [
       "<div>\n",
       "<style scoped>\n",
       "    .dataframe tbody tr th:only-of-type {\n",
       "        vertical-align: middle;\n",
       "    }\n",
       "\n",
       "    .dataframe tbody tr th {\n",
       "        vertical-align: top;\n",
       "    }\n",
       "\n",
       "    .dataframe thead th {\n",
       "        text-align: right;\n",
       "    }\n",
       "</style>\n",
       "<table border=\"1\" class=\"dataframe\">\n",
       "  <thead>\n",
       "    <tr style=\"text-align: right;\">\n",
       "      <th></th>\n",
       "      <th>Pclass</th>\n",
       "      <th>Sex</th>\n",
       "      <th>Age</th>\n",
       "      <th>SibSp</th>\n",
       "      <th>Parch</th>\n",
       "      <th>Fare</th>\n",
       "      <th>Survived</th>\n",
       "      <th>AgeCategory</th>\n",
       "      <th>FareCategory</th>\n",
       "      <th>Family</th>\n",
       "    </tr>\n",
       "  </thead>\n",
       "  <tbody>\n",
       "    <tr>\n",
       "      <th>0</th>\n",
       "      <td>3</td>\n",
       "      <td>male</td>\n",
       "      <td>22.0</td>\n",
       "      <td>1</td>\n",
       "      <td>0</td>\n",
       "      <td>7.2500</td>\n",
       "      <td>0</td>\n",
       "      <td>Youth</td>\n",
       "      <td>Low Fare</td>\n",
       "      <td>2</td>\n",
       "    </tr>\n",
       "    <tr>\n",
       "      <th>1</th>\n",
       "      <td>1</td>\n",
       "      <td>female</td>\n",
       "      <td>38.0</td>\n",
       "      <td>1</td>\n",
       "      <td>0</td>\n",
       "      <td>71.2833</td>\n",
       "      <td>1</td>\n",
       "      <td>Adult</td>\n",
       "      <td>Average Fare</td>\n",
       "      <td>2</td>\n",
       "    </tr>\n",
       "    <tr>\n",
       "      <th>2</th>\n",
       "      <td>3</td>\n",
       "      <td>female</td>\n",
       "      <td>26.0</td>\n",
       "      <td>0</td>\n",
       "      <td>0</td>\n",
       "      <td>7.9250</td>\n",
       "      <td>1</td>\n",
       "      <td>Adult</td>\n",
       "      <td>Low Fare</td>\n",
       "      <td>1</td>\n",
       "    </tr>\n",
       "    <tr>\n",
       "      <th>3</th>\n",
       "      <td>1</td>\n",
       "      <td>female</td>\n",
       "      <td>35.0</td>\n",
       "      <td>1</td>\n",
       "      <td>0</td>\n",
       "      <td>53.1000</td>\n",
       "      <td>1</td>\n",
       "      <td>Adult</td>\n",
       "      <td>Average Fare</td>\n",
       "      <td>2</td>\n",
       "    </tr>\n",
       "    <tr>\n",
       "      <th>4</th>\n",
       "      <td>3</td>\n",
       "      <td>male</td>\n",
       "      <td>35.0</td>\n",
       "      <td>0</td>\n",
       "      <td>0</td>\n",
       "      <td>8.0500</td>\n",
       "      <td>0</td>\n",
       "      <td>Adult</td>\n",
       "      <td>Low Fare</td>\n",
       "      <td>1</td>\n",
       "    </tr>\n",
       "  </tbody>\n",
       "</table>\n",
       "</div>"
      ],
      "text/plain": [
       "   Pclass     Sex   Age  SibSp  Parch     Fare  Survived AgeCategory  \\\n",
       "0       3    male  22.0      1      0   7.2500         0       Youth   \n",
       "1       1  female  38.0      1      0  71.2833         1       Adult   \n",
       "2       3  female  26.0      0      0   7.9250         1       Adult   \n",
       "3       1  female  35.0      1      0  53.1000         1       Adult   \n",
       "4       3    male  35.0      0      0   8.0500         0       Adult   \n",
       "\n",
       "   FareCategory  Family  \n",
       "0      Low Fare       2  \n",
       "1  Average Fare       2  \n",
       "2      Low Fare       1  \n",
       "3  Average Fare       2  \n",
       "4      Low Fare       1  "
      ]
     },
     "execution_count": 35,
     "metadata": {},
     "output_type": "execute_result"
    }
   ],
   "source": [
    "titanic.head()"
   ]
  },
  {
   "cell_type": "code",
   "execution_count": 36,
   "metadata": {},
   "outputs": [],
   "source": [
    "titanic['Sex'] = titanic['Sex'].map({'male':0,'female':1})"
   ]
  },
  {
   "cell_type": "code",
   "execution_count": 37,
   "metadata": {},
   "outputs": [],
   "source": [
    "category = ['Children','Youth','Adult','Seniors']\n",
    "\n",
    "titanic['AgeCategory'] = titanic['AgeCategory'].map({'Children':1,'Youth':2,'Adult':3,'Seniors':4})\n"
   ]
  },
  {
   "cell_type": "code",
   "execution_count": 38,
   "metadata": {},
   "outputs": [
    {
     "data": {
      "text/html": [
       "<div>\n",
       "<style scoped>\n",
       "    .dataframe tbody tr th:only-of-type {\n",
       "        vertical-align: middle;\n",
       "    }\n",
       "\n",
       "    .dataframe tbody tr th {\n",
       "        vertical-align: top;\n",
       "    }\n",
       "\n",
       "    .dataframe thead th {\n",
       "        text-align: right;\n",
       "    }\n",
       "</style>\n",
       "<table border=\"1\" class=\"dataframe\">\n",
       "  <thead>\n",
       "    <tr style=\"text-align: right;\">\n",
       "      <th></th>\n",
       "      <th>Pclass</th>\n",
       "      <th>Sex</th>\n",
       "      <th>Age</th>\n",
       "      <th>SibSp</th>\n",
       "      <th>Parch</th>\n",
       "      <th>Fare</th>\n",
       "      <th>Survived</th>\n",
       "      <th>AgeCategory</th>\n",
       "      <th>FareCategory</th>\n",
       "      <th>Family</th>\n",
       "    </tr>\n",
       "  </thead>\n",
       "  <tbody>\n",
       "    <tr>\n",
       "      <th>0</th>\n",
       "      <td>3</td>\n",
       "      <td>0</td>\n",
       "      <td>22.0</td>\n",
       "      <td>1</td>\n",
       "      <td>0</td>\n",
       "      <td>7.2500</td>\n",
       "      <td>0</td>\n",
       "      <td>2</td>\n",
       "      <td>Low Fare</td>\n",
       "      <td>2</td>\n",
       "    </tr>\n",
       "    <tr>\n",
       "      <th>1</th>\n",
       "      <td>1</td>\n",
       "      <td>1</td>\n",
       "      <td>38.0</td>\n",
       "      <td>1</td>\n",
       "      <td>0</td>\n",
       "      <td>71.2833</td>\n",
       "      <td>1</td>\n",
       "      <td>3</td>\n",
       "      <td>Average Fare</td>\n",
       "      <td>2</td>\n",
       "    </tr>\n",
       "    <tr>\n",
       "      <th>2</th>\n",
       "      <td>3</td>\n",
       "      <td>1</td>\n",
       "      <td>26.0</td>\n",
       "      <td>0</td>\n",
       "      <td>0</td>\n",
       "      <td>7.9250</td>\n",
       "      <td>1</td>\n",
       "      <td>3</td>\n",
       "      <td>Low Fare</td>\n",
       "      <td>1</td>\n",
       "    </tr>\n",
       "    <tr>\n",
       "      <th>3</th>\n",
       "      <td>1</td>\n",
       "      <td>1</td>\n",
       "      <td>35.0</td>\n",
       "      <td>1</td>\n",
       "      <td>0</td>\n",
       "      <td>53.1000</td>\n",
       "      <td>1</td>\n",
       "      <td>3</td>\n",
       "      <td>Average Fare</td>\n",
       "      <td>2</td>\n",
       "    </tr>\n",
       "    <tr>\n",
       "      <th>4</th>\n",
       "      <td>3</td>\n",
       "      <td>0</td>\n",
       "      <td>35.0</td>\n",
       "      <td>0</td>\n",
       "      <td>0</td>\n",
       "      <td>8.0500</td>\n",
       "      <td>0</td>\n",
       "      <td>3</td>\n",
       "      <td>Low Fare</td>\n",
       "      <td>1</td>\n",
       "    </tr>\n",
       "  </tbody>\n",
       "</table>\n",
       "</div>"
      ],
      "text/plain": [
       "   Pclass  Sex   Age  SibSp  Parch     Fare  Survived AgeCategory  \\\n",
       "0       3    0  22.0      1      0   7.2500         0           2   \n",
       "1       1    1  38.0      1      0  71.2833         1           3   \n",
       "2       3    1  26.0      0      0   7.9250         1           3   \n",
       "3       1    1  35.0      1      0  53.1000         1           3   \n",
       "4       3    0  35.0      0      0   8.0500         0           3   \n",
       "\n",
       "   FareCategory  Family  \n",
       "0      Low Fare       2  \n",
       "1  Average Fare       2  \n",
       "2      Low Fare       1  \n",
       "3  Average Fare       2  \n",
       "4      Low Fare       1  "
      ]
     },
     "execution_count": 38,
     "metadata": {},
     "output_type": "execute_result"
    }
   ],
   "source": [
    "titanic.head()"
   ]
  },
  {
   "cell_type": "code",
   "execution_count": 39,
   "metadata": {},
   "outputs": [
    {
     "data": {
      "text/html": [
       "<div>\n",
       "<style scoped>\n",
       "    .dataframe tbody tr th:only-of-type {\n",
       "        vertical-align: middle;\n",
       "    }\n",
       "\n",
       "    .dataframe tbody tr th {\n",
       "        vertical-align: top;\n",
       "    }\n",
       "\n",
       "    .dataframe thead th {\n",
       "        text-align: right;\n",
       "    }\n",
       "</style>\n",
       "<table border=\"1\" class=\"dataframe\">\n",
       "  <thead>\n",
       "    <tr style=\"text-align: right;\">\n",
       "      <th></th>\n",
       "      <th>Pclass</th>\n",
       "      <th>Sex</th>\n",
       "      <th>Survived</th>\n",
       "      <th>AgeCategory</th>\n",
       "      <th>Family</th>\n",
       "    </tr>\n",
       "  </thead>\n",
       "  <tbody>\n",
       "    <tr>\n",
       "      <th>0</th>\n",
       "      <td>3</td>\n",
       "      <td>0</td>\n",
       "      <td>0</td>\n",
       "      <td>2</td>\n",
       "      <td>2</td>\n",
       "    </tr>\n",
       "    <tr>\n",
       "      <th>1</th>\n",
       "      <td>1</td>\n",
       "      <td>1</td>\n",
       "      <td>1</td>\n",
       "      <td>3</td>\n",
       "      <td>2</td>\n",
       "    </tr>\n",
       "    <tr>\n",
       "      <th>2</th>\n",
       "      <td>3</td>\n",
       "      <td>1</td>\n",
       "      <td>1</td>\n",
       "      <td>3</td>\n",
       "      <td>1</td>\n",
       "    </tr>\n",
       "    <tr>\n",
       "      <th>3</th>\n",
       "      <td>1</td>\n",
       "      <td>1</td>\n",
       "      <td>1</td>\n",
       "      <td>3</td>\n",
       "      <td>2</td>\n",
       "    </tr>\n",
       "    <tr>\n",
       "      <th>4</th>\n",
       "      <td>3</td>\n",
       "      <td>0</td>\n",
       "      <td>0</td>\n",
       "      <td>3</td>\n",
       "      <td>1</td>\n",
       "    </tr>\n",
       "  </tbody>\n",
       "</table>\n",
       "</div>"
      ],
      "text/plain": [
       "   Pclass  Sex  Survived AgeCategory  Family\n",
       "0       3    0         0           2       2\n",
       "1       1    1         1           3       2\n",
       "2       3    1         1           3       1\n",
       "3       1    1         1           3       2\n",
       "4       3    0         0           3       1"
      ]
     },
     "execution_count": 39,
     "metadata": {},
     "output_type": "execute_result"
    }
   ],
   "source": [
    "drop_columns = ['Age','SibSp','Parch','Fare','FareCategory']\n",
    "\n",
    "titanic = titanic.drop(drop_columns,axis=1)\n",
    "titanic.head()"
   ]
  },
  {
   "cell_type": "markdown",
   "metadata": {},
   "source": [
    "### Splitting the dataset into training and test set"
   ]
  },
  {
   "cell_type": "code",
   "execution_count": 40,
   "metadata": {},
   "outputs": [],
   "source": [
    "X = titanic.drop(['Survived'],axis=1)\n",
    "y =titanic['Survived']\n",
    "\n",
    "from sklearn.model_selection import train_test_split\n",
    "\n",
    "X_train,X_test,y_train,y_test = train_test_split(X,y,test_size=0.3,stratify=y)"
   ]
  },
  {
   "cell_type": "code",
   "execution_count": 41,
   "metadata": {},
   "outputs": [
    {
     "data": {
      "text/plain": [
       "DecisionTreeClassifier(class_weight=None, criterion='gini', max_depth=None,\n",
       "                       max_features=None, max_leaf_nodes=None,\n",
       "                       min_impurity_decrease=0.0, min_impurity_split=None,\n",
       "                       min_samples_leaf=1, min_samples_split=2,\n",
       "                       min_weight_fraction_leaf=0.0, presort=False,\n",
       "                       random_state=None, splitter='best')"
      ]
     },
     "execution_count": 41,
     "metadata": {},
     "output_type": "execute_result"
    }
   ],
   "source": [
    "from sklearn.tree import DecisionTreeClassifier\n",
    "\n",
    "dtc = DecisionTreeClassifier()\n",
    "dtc.fit(X_train,y_train)"
   ]
  },
  {
   "cell_type": "code",
   "execution_count": 42,
   "metadata": {},
   "outputs": [
    {
     "data": {
      "text/plain": [
       "array([0, 0, 0, 0, 0, 0, 0, 0, 0, 1, 0, 0, 0, 1, 0, 0, 0, 0, 1, 0, 0, 1,\n",
       "       0, 1, 1, 1, 0, 0, 0, 1, 1, 1, 0, 0, 0, 0, 0, 0, 0, 0, 0, 0, 0, 0,\n",
       "       0, 0, 1, 1, 0, 0, 0, 0, 1, 0, 0, 0, 0, 0, 1, 1, 0, 0, 0, 1, 0, 0,\n",
       "       0, 0, 0, 1, 0, 1, 1, 0, 0, 0, 0, 0, 0, 0, 1, 1, 0, 0, 0, 0, 1, 1,\n",
       "       0, 0, 1, 0, 0, 0, 0, 0, 0, 1, 1, 0, 1, 0, 0, 0, 1, 0, 0, 1, 0, 1,\n",
       "       1, 0, 0, 0, 0, 0, 0, 1, 0, 0, 0, 0, 0, 1, 1, 0, 0, 0, 0, 1, 0, 0,\n",
       "       0, 0, 0, 0, 0, 0, 0, 0, 0, 0, 1, 0, 0, 1, 0, 0, 1, 0, 0, 0, 1, 0,\n",
       "       0, 0, 0, 1, 0, 0, 0, 1, 0, 0, 0, 0, 1, 0, 0, 0, 0, 1, 0, 0, 0, 0,\n",
       "       1, 1, 0, 0, 0, 1, 0, 0, 0, 1, 0, 0, 0, 1, 0, 0, 0, 0, 1, 1, 1, 0,\n",
       "       0, 0, 1, 0, 1, 0, 0, 0, 0, 1, 1, 0, 0, 1, 0, 0, 0, 0, 1, 1, 0, 1,\n",
       "       1, 1, 0, 1, 1, 0, 0, 0, 0, 0, 0, 0, 0, 0, 0, 0, 0, 0, 0, 0, 1, 0,\n",
       "       0, 1, 0, 0, 0, 1, 0, 1, 1, 0, 0, 0, 1, 0, 0, 1, 1, 0, 1, 0, 0, 0,\n",
       "       1, 0, 0, 1], dtype=int64)"
      ]
     },
     "execution_count": 42,
     "metadata": {},
     "output_type": "execute_result"
    }
   ],
   "source": [
    "pred = dtc.predict(X_test)\n",
    "pred"
   ]
  },
  {
   "cell_type": "code",
   "execution_count": 43,
   "metadata": {},
   "outputs": [
    {
     "data": {
      "text/plain": [
       "0.8022388059701493"
      ]
     },
     "execution_count": 43,
     "metadata": {},
     "output_type": "execute_result"
    }
   ],
   "source": [
    "from sklearn import metrics\n",
    "metrics.accuracy_score(y_test,pred)"
   ]
  },
  {
   "cell_type": "code",
   "execution_count": 44,
   "metadata": {},
   "outputs": [
    {
     "data": {
      "text/plain": [
       "array([[153,  12],\n",
       "       [ 41,  62]], dtype=int64)"
      ]
     },
     "execution_count": 44,
     "metadata": {},
     "output_type": "execute_result"
    }
   ],
   "source": [
    "cnf_matrix = metrics.confusion_matrix(y_test,pred)\n",
    "cnf_matrix"
   ]
  },
  {
   "cell_type": "code",
   "execution_count": 45,
   "metadata": {},
   "outputs": [
    {
     "data": {
      "text/plain": [
       "Text(0.5, 1.0, 'Confusion Matrix')"
      ]
     },
     "execution_count": 45,
     "metadata": {},
     "output_type": "execute_result"
    },
    {
     "data": {
      "image/png": "[encoded data removed]",
      "text/plain": [
       "<Figure size 432x288 with 2 Axes>"
      ]
     },
     "metadata": {
      "needs_background": "light"
     },
     "output_type": "display_data"
    }
   ],
   "source": [
    "sns.heatmap(pd.DataFrame(cnf_matrix),annot=True,fmt='g')\n",
    "plt.xlabel('Predicted')\n",
    "plt.ylabel('Actual')\n",
    "plt.title('Confusion Matrix')"
   ]
  },
  {
   "cell_type": "code",
   "execution_count": 46,
   "metadata": {},
   "outputs": [
    {
     "name": "stdout",
     "output_type": "stream",
     "text": [
      "              precision    recall  f1-score   support\n",
      "\n",
      "           0       0.79      0.93      0.85       165\n",
      "           1       0.84      0.60      0.70       103\n",
      "\n",
      "    accuracy                           0.80       268\n",
      "   macro avg       0.81      0.76      0.78       268\n",
      "weighted avg       0.81      0.80      0.79       268\n",
      "\n"
     ]
    }
   ],
   "source": [
    "print(metrics.classification_report(y_test,pred))"
   ]
  },
  {
   "cell_type": "markdown",
   "metadata": {},
   "source": [
    "### Hyperparameter tuning using RandomizedSearchCV"
   ]
  },
  {
   "cell_type": "code",
   "execution_count": 47,
   "metadata": {},
   "outputs": [],
   "source": [
    "from sklearn.model_selection import RandomizedSearchCV\n",
    "#Randomized Search CV\n",
    "\n",
    "criterion = ['gini','entropy']\n",
    "max_depth = [int(x) for x in np.linspace(5, 30, num = 6)]\n",
    "min_samples_split = [2, 5, 10, 15, 50,100]\n",
    "min_samples_leaf = [1, 2, 5, 10]\n",
    "\n"
   ]
  },
  {
   "cell_type": "code",
   "execution_count": 48,
   "metadata": {},
   "outputs": [
    {
     "name": "stdout",
     "output_type": "stream",
     "text": [
      "{'criterion': ['gini', 'entropy'], 'max_depth': [5, 10, 15, 20, 25, 30], 'min_samples_split': [2, 5, 10, 15, 50, 100], 'min_samples_leaf': [1, 2, 5, 10]}\n"
     ]
    }
   ],
   "source": [
    "random_grid = {'criterion':criterion,\n",
    "              'max_depth':max_depth,\n",
    "              'min_samples_split':min_samples_split,\n",
    "              'min_samples_leaf':min_samples_leaf}\n",
    "\n",
    "print(random_grid)"
   ]
  },
  {
   "cell_type": "code",
   "execution_count": 49,
   "metadata": {},
   "outputs": [],
   "source": [
    "dt_random = RandomizedSearchCV(estimator = dtc, \n",
    "                               param_distributions = random_grid,\n",
    "                               scoring='accuracy', \n",
    "                               n_iter = 50, \n",
    "                               cv = 5, \n",
    "                               verbose=2, \n",
    "                               n_jobs = 1)\n",
    "\n"
   ]
  },
  {
   "cell_type": "code",
   "execution_count": 50,
   "metadata": {},
   "outputs": [
    {
     "name": "stdout",
     "output_type": "stream",
     "text": [
      "Fitting 5 folds for each of 50 candidates, totalling 250 fits\n",
      "[CV] min_samples_split=50, min_samples_leaf=2, max_depth=15, criterion=entropy \n",
      "[CV]  min_samples_split=50, min_samples_leaf=2, max_depth=15, criterion=entropy, total=   0.0s\n",
      "[CV] min_samples_split=50, min_samples_leaf=2, max_depth=15, criterion=entropy \n",
      "[CV]  min_samples_split=50, min_samples_leaf=2, max_depth=15, criterion=entropy, total=   0.0s\n",
      "[CV] min_samples_split=50, min_samples_leaf=2, max_depth=15, criterion=entropy \n",
      "[CV]  min_samples_split=50, min_samples_leaf=2, max_depth=15, criterion=entropy, total=   0.0s\n",
      "[CV] min_samples_split=50, min_samples_leaf=2, max_depth=15, criterion=entropy \n",
      "[CV]  min_samples_split=50, min_samples_leaf=2, max_depth=15, criterion=entropy, total=   0.0s\n",
      "[CV] min_samples_split=50, min_samples_leaf=2, max_depth=15, criterion=entropy \n",
      "[CV]  min_samples_split=50, min_samples_leaf=2, max_depth=15, criterion=entropy, total=   0.0s\n",
      "[CV] min_samples_split=100, min_samples_leaf=10, max_depth=10, criterion=entropy \n",
      "[CV]  min_samples_split=100, min_samples_leaf=10, max_depth=10, criterion=entropy, total=   0.0s\n",
      "[CV] min_samples_split=100, min_samples_leaf=10, max_depth=10, criterion=entropy \n",
      "[CV]  min_samples_split=100, min_samples_leaf=10, max_depth=10, criterion=entropy, total=   0.0s\n",
      "[CV] min_samples_split=100, min_samples_leaf=10, max_depth=10, criterion=entropy \n",
      "[CV]  min_samples_split=100, min_samples_leaf=10, max_depth=10, criterion=entropy, total=   0.0s\n",
      "[CV] min_samples_split=100, min_samples_leaf=10, max_depth=10, criterion=entropy \n",
      "[CV]  min_samples_split=100, min_samples_leaf=10, max_depth=10, criterion=entropy, total=   0.0s\n",
      "[CV] min_samples_split=100, min_samples_leaf=10, max_depth=10, criterion=entropy \n",
      "[CV]  min_samples_split=100, min_samples_leaf=10, max_depth=10, criterion=entropy, total=   0.0s\n",
      "[CV] min_samples_split=50, min_samples_leaf=5, max_depth=25, criterion=entropy \n",
      "[CV]  min_samples_split=50, min_samples_leaf=5, max_depth=25, criterion=entropy, total=   0.0s\n",
      "[CV] min_samples_split=50, min_samples_leaf=5, max_depth=25, criterion=entropy \n",
      "[CV]  min_samples_split=50, min_samples_leaf=5, max_depth=25, criterion=entropy, total=   0.0s\n",
      "[CV] min_samples_split=50, min_samples_leaf=5, max_depth=25, criterion=entropy \n",
      "[CV]  min_samples_split=50, min_samples_leaf=5, max_depth=25, criterion=entropy, total=   0.0s\n",
      "[CV] min_samples_split=50, min_samples_leaf=5, max_depth=25, criterion=entropy \n",
      "[CV]  min_samples_split=50, min_samples_leaf=5, max_depth=25, criterion=entropy, total=   0.0s\n",
      "[CV] min_samples_split=50, min_samples_leaf=5, max_depth=25, criterion=entropy \n",
      "[CV]  min_samples_split=50, min_samples_leaf=5, max_depth=25, criterion=entropy, total=   0.0s\n",
      "[CV] min_samples_split=50, min_samples_leaf=5, max_depth=10, criterion=gini \n",
      "[CV]  min_samples_split=50, min_samples_leaf=5, max_depth=10, criterion=gini, total=   0.0s\n",
      "[CV] min_samples_split=50, min_samples_leaf=5, max_depth=10, criterion=gini \n",
      "[CV]  min_samples_split=50, min_samples_leaf=5, max_depth=10, criterion=gini, total=   0.0s\n",
      "[CV] min_samples_split=50, min_samples_leaf=5, max_depth=10, criterion=gini \n",
      "[CV]  min_samples_split=50, min_samples_leaf=5, max_depth=10, criterion=gini, total=   0.0s\n",
      "[CV] min_samples_split=50, min_samples_leaf=5, max_depth=10, criterion=gini \n",
      "[CV]  min_samples_split=50, min_samples_leaf=5, max_depth=10, criterion=gini, total=   0.0s"
     ]
    },
    {
     "name": "stderr",
     "output_type": "stream",
     "text": [
      "[Parallel(n_jobs=1)]: Using backend SequentialBackend with 1 concurrent workers.\n",
      "[Parallel(n_jobs=1)]: Done   1 out of   1 | elapsed:    0.0s remaining:    0.0s\n"
     ]
    },
    {
     "name": "stdout",
     "output_type": "stream",
     "text": [
      "\n",
      "[CV] min_samples_split=50, min_samples_leaf=5, max_depth=10, criterion=gini \n",
      "[CV]  min_samples_split=50, min_samples_leaf=5, max_depth=10, criterion=gini, total=   0.0s\n",
      "[CV] min_samples_split=2, min_samples_leaf=2, max_depth=5, criterion=entropy \n",
      "[CV]  min_samples_split=2, min_samples_leaf=2, max_depth=5, criterion=entropy, total=   0.0s\n",
      "[CV] min_samples_split=2, min_samples_leaf=2, max_depth=5, criterion=entropy \n",
      "[CV]  min_samples_split=2, min_samples_leaf=2, max_depth=5, criterion=entropy, total=   0.0s\n",
      "[CV] min_samples_split=2, min_samples_leaf=2, max_depth=5, criterion=entropy \n",
      "[CV]  min_samples_split=2, min_samples_leaf=2, max_depth=5, criterion=entropy, total=   0.0s\n",
      "[CV] min_samples_split=2, min_samples_leaf=2, max_depth=5, criterion=entropy \n",
      "[CV]  min_samples_split=2, min_samples_leaf=2, max_depth=5, criterion=entropy, total=   0.0s\n",
      "[CV] min_samples_split=2, min_samples_leaf=2, max_depth=5, criterion=entropy \n",
      "[CV]  min_samples_split=2, min_samples_leaf=2, max_depth=5, criterion=entropy, total=   0.0s\n",
      "[CV] min_samples_split=2, min_samples_leaf=5, max_depth=15, criterion=entropy \n",
      "[CV]  min_samples_split=2, min_samples_leaf=5, max_depth=15, criterion=entropy, total=   0.0s\n",
      "[CV] min_samples_split=2, min_samples_leaf=5, max_depth=15, criterion=entropy \n",
      "[CV]  min_samples_split=2, min_samples_leaf=5, max_depth=15, criterion=entropy, total=   0.0s\n",
      "[CV] min_samples_split=2, min_samples_leaf=5, max_depth=15, criterion=entropy \n",
      "[CV]  min_samples_split=2, min_samples_leaf=5, max_depth=15, criterion=entropy, total=   0.0s\n",
      "[CV] min_samples_split=2, min_samples_leaf=5, max_depth=15, criterion=entropy \n",
      "[CV]  min_samples_split=2, min_samples_leaf=5, max_depth=15, criterion=entropy, total=   0.0s\n",
      "[CV] min_samples_split=2, min_samples_leaf=5, max_depth=15, criterion=entropy \n",
      "[CV]  min_samples_split=2, min_samples_leaf=5, max_depth=15, criterion=entropy, total=   0.0s\n",
      "[CV] min_samples_split=50, min_samples_leaf=5, max_depth=30, criterion=entropy \n",
      "[CV]  min_samples_split=50, min_samples_leaf=5, max_depth=30, criterion=entropy, total=   0.0s\n",
      "[CV] min_samples_split=50, min_samples_leaf=5, max_depth=30, criterion=entropy \n",
      "[CV]  min_samples_split=50, min_samples_leaf=5, max_depth=30, criterion=entropy, total=   0.0s\n",
      "[CV] min_samples_split=50, min_samples_leaf=5, max_depth=30, criterion=entropy \n",
      "[CV]  min_samples_split=50, min_samples_leaf=5, max_depth=30, criterion=entropy, total=   0.0s\n",
      "[CV] min_samples_split=50, min_samples_leaf=5, max_depth=30, criterion=entropy \n",
      "[CV]  min_samples_split=50, min_samples_leaf=5, max_depth=30, criterion=entropy, total=   0.0s\n",
      "[CV] min_samples_split=50, min_samples_leaf=5, max_depth=30, criterion=entropy \n",
      "[CV]  min_samples_split=50, min_samples_leaf=5, max_depth=30, criterion=entropy, total=   0.0s\n",
      "[CV] min_samples_split=5, min_samples_leaf=2, max_depth=10, criterion=entropy \n",
      "[CV]  min_samples_split=5, min_samples_leaf=2, max_depth=10, criterion=entropy, total=   0.0s\n",
      "[CV] min_samples_split=5, min_samples_leaf=2, max_depth=10, criterion=entropy \n",
      "[CV]  min_samples_split=5, min_samples_leaf=2, max_depth=10, criterion=entropy, total=   0.0s\n",
      "[CV] min_samples_split=5, min_samples_leaf=2, max_depth=10, criterion=entropy \n",
      "[CV]  min_samples_split=5, min_samples_leaf=2, max_depth=10, criterion=entropy, total=   0.0s\n",
      "[CV] min_samples_split=5, min_samples_leaf=2, max_depth=10, criterion=entropy \n",
      "[CV]  min_samples_split=5, min_samples_leaf=2, max_depth=10, criterion=entropy, total=   0.0s\n",
      "[CV] min_samples_split=5, min_samples_leaf=2, max_depth=10, criterion=entropy \n",
      "[CV]  min_samples_split=5, min_samples_leaf=2, max_depth=10, criterion=entropy, total=   0.0s\n",
      "[CV] min_samples_split=10, min_samples_leaf=2, max_depth=5, criterion=gini \n",
      "[CV]  min_samples_split=10, min_samples_leaf=2, max_depth=5, criterion=gini, total=   0.0s\n",
      "[CV] min_samples_split=10, min_samples_leaf=2, max_depth=5, criterion=gini \n",
      "[CV]  min_samples_split=10, min_samples_leaf=2, max_depth=5, criterion=gini, total=   0.0s\n",
      "[CV] min_samples_split=10, min_samples_leaf=2, max_depth=5, criterion=gini \n",
      "[CV]  min_samples_split=10, min_samples_leaf=2, max_depth=5, criterion=gini, total=   0.0s\n",
      "[CV] min_samples_split=10, min_samples_leaf=2, max_depth=5, criterion=gini \n",
      "[CV]  min_samples_split=10, min_samples_leaf=2, max_depth=5, criterion=gini, total=   0.0s\n",
      "[CV] min_samples_split=10, min_samples_leaf=2, max_depth=5, criterion=gini \n",
      "[CV]  min_samples_split=10, min_samples_leaf=2, max_depth=5, criterion=gini, total=   0.0s\n",
      "[CV] min_samples_split=15, min_samples_leaf=5, max_depth=15, criterion=gini \n",
      "[CV]  min_samples_split=15, min_samples_leaf=5, max_depth=15, criterion=gini, total=   0.0s\n",
      "[CV] min_samples_split=15, min_samples_leaf=5, max_depth=15, criterion=gini \n",
      "[CV]  min_samples_split=15, min_samples_leaf=5, max_depth=15, criterion=gini, total=   0.0s\n",
      "[CV] min_samples_split=15, min_samples_leaf=5, max_depth=15, criterion=gini \n",
      "[CV]  min_samples_split=15, min_samples_leaf=5, max_depth=15, criterion=gini, total=   0.0s\n",
      "[CV] min_samples_split=15, min_samples_leaf=5, max_depth=15, criterion=gini \n",
      "[CV]  min_samples_split=15, min_samples_leaf=5, max_depth=15, criterion=gini, total=   0.0s\n",
      "[CV] min_samples_split=15, min_samples_leaf=5, max_depth=15, criterion=gini \n",
      "[CV]  min_samples_split=15, min_samples_leaf=5, max_depth=15, criterion=gini, total=   0.0s\n",
      "[CV] min_samples_split=15, min_samples_leaf=1, max_depth=25, criterion=entropy \n",
      "[CV]  min_samples_split=15, min_samples_leaf=1, max_depth=25, criterion=entropy, total=   0.0s\n",
      "[CV] min_samples_split=15, min_samples_leaf=1, max_depth=25, criterion=entropy \n",
      "[CV]  min_samples_split=15, min_samples_leaf=1, max_depth=25, criterion=entropy, total=   0.0s\n",
      "[CV] min_samples_split=15, min_samples_leaf=1, max_depth=25, criterion=entropy \n",
      "[CV]  min_samples_split=15, min_samples_leaf=1, max_depth=25, criterion=entropy, total=   0.0s\n",
      "[CV] min_samples_split=15, min_samples_leaf=1, max_depth=25, criterion=entropy \n",
      "[CV]  min_samples_split=15, min_samples_leaf=1, max_depth=25, criterion=entropy, total=   0.0s\n",
      "[CV] min_samples_split=15, min_samples_leaf=1, max_depth=25, criterion=entropy \n",
      "[CV]  min_samples_split=15, min_samples_leaf=1, max_depth=25, criterion=entropy, total=   0.0s\n",
      "[CV] min_samples_split=50, min_samples_leaf=2, max_depth=5, criterion=gini \n",
      "[CV]  min_samples_split=50, min_samples_leaf=2, max_depth=5, criterion=gini, total=   0.0s\n",
      "[CV] min_samples_split=50, min_samples_leaf=2, max_depth=5, criterion=gini \n",
      "[CV]  min_samples_split=50, min_samples_leaf=2, max_depth=5, criterion=gini, total=   0.0s\n",
      "[CV] min_samples_split=50, min_samples_leaf=2, max_depth=5, criterion=gini \n",
      "[CV]  min_samples_split=50, min_samples_leaf=2, max_depth=5, criterion=gini, total=   0.0s\n",
      "[CV] min_samples_split=50, min_samples_leaf=2, max_depth=5, criterion=gini \n",
      "[CV]  min_samples_split=50, min_samples_leaf=2, max_depth=5, criterion=gini, total=   0.0s\n",
      "[CV] min_samples_split=50, min_samples_leaf=2, max_depth=5, criterion=gini \n",
      "[CV]  min_samples_split=50, min_samples_leaf=2, max_depth=5, criterion=gini, total=   0.0s\n",
      "[CV] min_samples_split=2, min_samples_leaf=2, max_depth=5, criterion=gini \n",
      "[CV]  min_samples_split=2, min_samples_leaf=2, max_depth=5, criterion=gini, total=   0.0s\n",
      "[CV] min_samples_split=2, min_samples_leaf=2, max_depth=5, criterion=gini \n",
      "[CV]  min_samples_split=2, min_samples_leaf=2, max_depth=5, criterion=gini, total=   0.0s\n",
      "[CV] min_samples_split=2, min_samples_leaf=2, max_depth=5, criterion=gini \n",
      "[CV]  min_samples_split=2, min_samples_leaf=2, max_depth=5, criterion=gini, total=   0.0s\n",
      "[CV] min_samples_split=2, min_samples_leaf=2, max_depth=5, criterion=gini \n",
      "[CV]  min_samples_split=2, min_samples_leaf=2, max_depth=5, criterion=gini, total=   0.0s\n",
      "[CV] min_samples_split=2, min_samples_leaf=2, max_depth=5, criterion=gini \n",
      "[CV]  min_samples_split=2, min_samples_leaf=2, max_depth=5, criterion=gini, total=   0.0s\n",
      "[CV] min_samples_split=5, min_samples_leaf=1, max_depth=5, criterion=entropy \n",
      "[CV]  min_samples_split=5, min_samples_leaf=1, max_depth=5, criterion=entropy, total=   0.0s\n",
      "[CV] min_samples_split=5, min_samples_leaf=1, max_depth=5, criterion=entropy \n",
      "[CV]  min_samples_split=5, min_samples_leaf=1, max_depth=5, criterion=entropy, total=   0.0s\n",
      "[CV] min_samples_split=5, min_samples_leaf=1, max_depth=5, criterion=entropy \n",
      "[CV]  min_samples_split=5, min_samples_leaf=1, max_depth=5, criterion=entropy, total=   0.0s\n",
      "[CV] min_samples_split=5, min_samples_leaf=1, max_depth=5, criterion=entropy \n",
      "[CV]  min_samples_split=5, min_samples_leaf=1, max_depth=5, criterion=entropy, total=   0.0s\n",
      "[CV] min_samples_split=5, min_samples_leaf=1, max_depth=5, criterion=entropy \n",
      "[CV]  min_samples_split=5, min_samples_leaf=1, max_depth=5, criterion=entropy, total=   0.0s\n",
      "[CV] min_samples_split=5, min_samples_leaf=10, max_depth=15, criterion=entropy \n",
      "[CV]  min_samples_split=5, min_samples_leaf=10, max_depth=15, criterion=entropy, total=   0.0s\n",
      "[CV] min_samples_split=5, min_samples_leaf=10, max_depth=15, criterion=entropy \n",
      "[CV]  min_samples_split=5, min_samples_leaf=10, max_depth=15, criterion=entropy, total=   0.0s\n",
      "[CV] min_samples_split=5, min_samples_leaf=10, max_depth=15, criterion=entropy \n",
      "[CV]  min_samples_split=5, min_samples_leaf=10, max_depth=15, criterion=entropy, total=   0.0s\n",
      "[CV] min_samples_split=5, min_samples_leaf=10, max_depth=15, criterion=entropy \n",
      "[CV]  min_samples_split=5, min_samples_leaf=10, max_depth=15, criterion=entropy, total=   0.0s\n",
      "[CV] min_samples_split=5, min_samples_leaf=10, max_depth=15, criterion=entropy \n",
      "[CV]  min_samples_split=5, min_samples_leaf=10, max_depth=15, criterion=entropy, total=   0.0s\n",
      "[CV] min_samples_split=5, min_samples_leaf=2, max_depth=25, criterion=gini \n",
      "[CV]  min_samples_split=5, min_samples_leaf=2, max_depth=25, criterion=gini, total=   0.0s\n",
      "[CV] min_samples_split=5, min_samples_leaf=2, max_depth=25, criterion=gini \n"
     ]
    },
    {
     "name": "stdout",
     "output_type": "stream",
     "text": [
      "[CV]  min_samples_split=5, min_samples_leaf=2, max_depth=25, criterion=gini, total=   0.0s\n",
      "[CV] min_samples_split=5, min_samples_leaf=2, max_depth=25, criterion=gini \n",
      "[CV]  min_samples_split=5, min_samples_leaf=2, max_depth=25, criterion=gini, total=   0.0s\n",
      "[CV] min_samples_split=5, min_samples_leaf=2, max_depth=25, criterion=gini \n",
      "[CV]  min_samples_split=5, min_samples_leaf=2, max_depth=25, criterion=gini, total=   0.0s\n",
      "[CV] min_samples_split=5, min_samples_leaf=2, max_depth=25, criterion=gini \n",
      "[CV]  min_samples_split=5, min_samples_leaf=2, max_depth=25, criterion=gini, total=   0.0s\n",
      "[CV] min_samples_split=15, min_samples_leaf=1, max_depth=20, criterion=gini \n",
      "[CV]  min_samples_split=15, min_samples_leaf=1, max_depth=20, criterion=gini, total=   0.0s\n",
      "[CV] min_samples_split=15, min_samples_leaf=1, max_depth=20, criterion=gini \n",
      "[CV]  min_samples_split=15, min_samples_leaf=1, max_depth=20, criterion=gini, total=   0.0s\n",
      "[CV] min_samples_split=15, min_samples_leaf=1, max_depth=20, criterion=gini \n",
      "[CV]  min_samples_split=15, min_samples_leaf=1, max_depth=20, criterion=gini, total=   0.0s\n",
      "[CV] min_samples_split=15, min_samples_leaf=1, max_depth=20, criterion=gini \n",
      "[CV]  min_samples_split=15, min_samples_leaf=1, max_depth=20, criterion=gini, total=   0.0s\n",
      "[CV] min_samples_split=15, min_samples_leaf=1, max_depth=20, criterion=gini \n",
      "[CV]  min_samples_split=15, min_samples_leaf=1, max_depth=20, criterion=gini, total=   0.0s\n",
      "[CV] min_samples_split=100, min_samples_leaf=10, max_depth=5, criterion=entropy \n",
      "[CV]  min_samples_split=100, min_samples_leaf=10, max_depth=5, criterion=entropy, total=   0.0s\n",
      "[CV] min_samples_split=100, min_samples_leaf=10, max_depth=5, criterion=entropy \n",
      "[CV]  min_samples_split=100, min_samples_leaf=10, max_depth=5, criterion=entropy, total=   0.0s\n",
      "[CV] min_samples_split=100, min_samples_leaf=10, max_depth=5, criterion=entropy \n",
      "[CV]  min_samples_split=100, min_samples_leaf=10, max_depth=5, criterion=entropy, total=   0.0s\n",
      "[CV] min_samples_split=100, min_samples_leaf=10, max_depth=5, criterion=entropy \n",
      "[CV]  min_samples_split=100, min_samples_leaf=10, max_depth=5, criterion=entropy, total=   0.0s\n",
      "[CV] min_samples_split=100, min_samples_leaf=10, max_depth=5, criterion=entropy \n",
      "[CV]  min_samples_split=100, min_samples_leaf=10, max_depth=5, criterion=entropy, total=   0.0s\n",
      "[CV] min_samples_split=2, min_samples_leaf=1, max_depth=30, criterion=gini \n",
      "[CV]  min_samples_split=2, min_samples_leaf=1, max_depth=30, criterion=gini, total=   0.0s\n",
      "[CV] min_samples_split=2, min_samples_leaf=1, max_depth=30, criterion=gini \n",
      "[CV]  min_samples_split=2, min_samples_leaf=1, max_depth=30, criterion=gini, total=   0.0s\n",
      "[CV] min_samples_split=2, min_samples_leaf=1, max_depth=30, criterion=gini \n",
      "[CV]  min_samples_split=2, min_samples_leaf=1, max_depth=30, criterion=gini, total=   0.0s\n",
      "[CV] min_samples_split=2, min_samples_leaf=1, max_depth=30, criterion=gini \n",
      "[CV]  min_samples_split=2, min_samples_leaf=1, max_depth=30, criterion=gini, total=   0.0s\n",
      "[CV] min_samples_split=2, min_samples_leaf=1, max_depth=30, criterion=gini \n",
      "[CV]  min_samples_split=2, min_samples_leaf=1, max_depth=30, criterion=gini, total=   0.0s\n",
      "[CV] min_samples_split=50, min_samples_leaf=2, max_depth=10, criterion=gini \n",
      "[CV]  min_samples_split=50, min_samples_leaf=2, max_depth=10, criterion=gini, total=   0.0s\n",
      "[CV] min_samples_split=50, min_samples_leaf=2, max_depth=10, criterion=gini \n",
      "[CV]  min_samples_split=50, min_samples_leaf=2, max_depth=10, criterion=gini, total=   0.0s\n",
      "[CV] min_samples_split=50, min_samples_leaf=2, max_depth=10, criterion=gini \n",
      "[CV]  min_samples_split=50, min_samples_leaf=2, max_depth=10, criterion=gini, total=   0.0s\n",
      "[CV] min_samples_split=50, min_samples_leaf=2, max_depth=10, criterion=gini \n",
      "[CV]  min_samples_split=50, min_samples_leaf=2, max_depth=10, criterion=gini, total=   0.0s\n",
      "[CV] min_samples_split=50, min_samples_leaf=2, max_depth=10, criterion=gini \n",
      "[CV]  min_samples_split=50, min_samples_leaf=2, max_depth=10, criterion=gini, total=   0.0s\n",
      "[CV] min_samples_split=15, min_samples_leaf=2, max_depth=5, criterion=gini \n",
      "[CV]  min_samples_split=15, min_samples_leaf=2, max_depth=5, criterion=gini, total=   0.0s\n",
      "[CV] min_samples_split=15, min_samples_leaf=2, max_depth=5, criterion=gini \n",
      "[CV]  min_samples_split=15, min_samples_leaf=2, max_depth=5, criterion=gini, total=   0.0s\n",
      "[CV] min_samples_split=15, min_samples_leaf=2, max_depth=5, criterion=gini \n",
      "[CV]  min_samples_split=15, min_samples_leaf=2, max_depth=5, criterion=gini, total=   0.0s\n",
      "[CV] min_samples_split=15, min_samples_leaf=2, max_depth=5, criterion=gini \n",
      "[CV]  min_samples_split=15, min_samples_leaf=2, max_depth=5, criterion=gini, total=   0.0s\n",
      "[CV] min_samples_split=15, min_samples_leaf=2, max_depth=5, criterion=gini \n",
      "[CV]  min_samples_split=15, min_samples_leaf=2, max_depth=5, criterion=gini, total=   0.0s\n",
      "[CV] min_samples_split=10, min_samples_leaf=10, max_depth=15, criterion=gini \n",
      "[CV]  min_samples_split=10, min_samples_leaf=10, max_depth=15, criterion=gini, total=   0.0s\n",
      "[CV] min_samples_split=10, min_samples_leaf=10, max_depth=15, criterion=gini \n",
      "[CV]  min_samples_split=10, min_samples_leaf=10, max_depth=15, criterion=gini, total=   0.0s\n",
      "[CV] min_samples_split=10, min_samples_leaf=10, max_depth=15, criterion=gini \n",
      "[CV]  min_samples_split=10, min_samples_leaf=10, max_depth=15, criterion=gini, total=   0.0s\n",
      "[CV] min_samples_split=10, min_samples_leaf=10, max_depth=15, criterion=gini \n",
      "[CV]  min_samples_split=10, min_samples_leaf=10, max_depth=15, criterion=gini, total=   0.0s\n",
      "[CV] min_samples_split=10, min_samples_leaf=10, max_depth=15, criterion=gini \n",
      "[CV]  min_samples_split=10, min_samples_leaf=10, max_depth=15, criterion=gini, total=   0.0s\n",
      "[CV] min_samples_split=10, min_samples_leaf=2, max_depth=20, criterion=entropy \n",
      "[CV]  min_samples_split=10, min_samples_leaf=2, max_depth=20, criterion=entropy, total=   0.0s\n",
      "[CV] min_samples_split=10, min_samples_leaf=2, max_depth=20, criterion=entropy \n",
      "[CV]  min_samples_split=10, min_samples_leaf=2, max_depth=20, criterion=entropy, total=   0.0s\n",
      "[CV] min_samples_split=10, min_samples_leaf=2, max_depth=20, criterion=entropy \n",
      "[CV]  min_samples_split=10, min_samples_leaf=2, max_depth=20, criterion=entropy, total=   0.0s\n",
      "[CV] min_samples_split=10, min_samples_leaf=2, max_depth=20, criterion=entropy \n",
      "[CV]  min_samples_split=10, min_samples_leaf=2, max_depth=20, criterion=entropy, total=   0.0s\n",
      "[CV] min_samples_split=10, min_samples_leaf=2, max_depth=20, criterion=entropy \n",
      "[CV]  min_samples_split=10, min_samples_leaf=2, max_depth=20, criterion=entropy, total=   0.0s\n",
      "[CV] min_samples_split=50, min_samples_leaf=5, max_depth=25, criterion=gini \n",
      "[CV]  min_samples_split=50, min_samples_leaf=5, max_depth=25, criterion=gini, total=   0.0s\n",
      "[CV] min_samples_split=50, min_samples_leaf=5, max_depth=25, criterion=gini \n",
      "[CV]  min_samples_split=50, min_samples_leaf=5, max_depth=25, criterion=gini, total=   0.0s\n",
      "[CV] min_samples_split=50, min_samples_leaf=5, max_depth=25, criterion=gini \n",
      "[CV]  min_samples_split=50, min_samples_leaf=5, max_depth=25, criterion=gini, total=   0.0s\n",
      "[CV] min_samples_split=50, min_samples_leaf=5, max_depth=25, criterion=gini \n",
      "[CV]  min_samples_split=50, min_samples_leaf=5, max_depth=25, criterion=gini, total=   0.0s\n",
      "[CV] min_samples_split=50, min_samples_leaf=5, max_depth=25, criterion=gini \n",
      "[CV]  min_samples_split=50, min_samples_leaf=5, max_depth=25, criterion=gini, total=   0.0s\n",
      "[CV] min_samples_split=50, min_samples_leaf=2, max_depth=30, criterion=gini \n",
      "[CV]  min_samples_split=50, min_samples_leaf=2, max_depth=30, criterion=gini, total=   0.0s\n",
      "[CV] min_samples_split=50, min_samples_leaf=2, max_depth=30, criterion=gini \n",
      "[CV]  min_samples_split=50, min_samples_leaf=2, max_depth=30, criterion=gini, total=   0.0s\n",
      "[CV] min_samples_split=50, min_samples_leaf=2, max_depth=30, criterion=gini \n",
      "[CV]  min_samples_split=50, min_samples_leaf=2, max_depth=30, criterion=gini, total=   0.0s\n",
      "[CV] min_samples_split=50, min_samples_leaf=2, max_depth=30, criterion=gini \n",
      "[CV]  min_samples_split=50, min_samples_leaf=2, max_depth=30, criterion=gini, total=   0.0s\n",
      "[CV] min_samples_split=50, min_samples_leaf=2, max_depth=30, criterion=gini \n",
      "[CV]  min_samples_split=50, min_samples_leaf=2, max_depth=30, criterion=gini, total=   0.0s\n",
      "[CV] min_samples_split=15, min_samples_leaf=10, max_depth=10, criterion=entropy \n",
      "[CV]  min_samples_split=15, min_samples_leaf=10, max_depth=10, criterion=entropy, total=   0.0s\n",
      "[CV] min_samples_split=15, min_samples_leaf=10, max_depth=10, criterion=entropy \n",
      "[CV]  min_samples_split=15, min_samples_leaf=10, max_depth=10, criterion=entropy, total=   0.0s\n",
      "[CV] min_samples_split=15, min_samples_leaf=10, max_depth=10, criterion=entropy \n",
      "[CV]  min_samples_split=15, min_samples_leaf=10, max_depth=10, criterion=entropy, total=   0.0s\n",
      "[CV] min_samples_split=15, min_samples_leaf=10, max_depth=10, criterion=entropy \n",
      "[CV]  min_samples_split=15, min_samples_leaf=10, max_depth=10, criterion=entropy, total=   0.0s\n",
      "[CV] min_samples_split=15, min_samples_leaf=10, max_depth=10, criterion=entropy \n",
      "[CV]  min_samples_split=15, min_samples_leaf=10, max_depth=10, criterion=entropy, total=   0.0s\n",
      "[CV] min_samples_split=100, min_samples_leaf=2, max_depth=10, criterion=gini \n",
      "[CV]  min_samples_split=100, min_samples_leaf=2, max_depth=10, criterion=gini, total=   0.0s\n",
      "[CV] min_samples_split=100, min_samples_leaf=2, max_depth=10, criterion=gini \n",
      "[CV]  min_samples_split=100, min_samples_leaf=2, max_depth=10, criterion=gini, total=   0.0s\n",
      "[CV] min_samples_split=100, min_samples_leaf=2, max_depth=10, criterion=gini \n",
      "[CV]  min_samples_split=100, min_samples_leaf=2, max_depth=10, criterion=gini, total=   0.0s\n",
      "[CV] min_samples_split=100, min_samples_leaf=2, max_depth=10, criterion=gini \n",
      "[CV]  min_samples_split=100, min_samples_leaf=2, max_depth=10, criterion=gini, total=   0.0s\n",
      "[CV] min_samples_split=100, min_samples_leaf=2, max_depth=10, criterion=gini \n",
      "[CV]  min_samples_split=100, min_samples_leaf=2, max_depth=10, criterion=gini, total=   0.0s\n",
      "[CV] min_samples_split=5, min_samples_leaf=10, max_depth=5, criterion=gini \n",
      "[CV]  min_samples_split=5, min_samples_leaf=10, max_depth=5, criterion=gini, total=   0.0s\n",
      "[CV] min_samples_split=5, min_samples_leaf=10, max_depth=5, criterion=gini \n",
      "[CV]  min_samples_split=5, min_samples_leaf=10, max_depth=5, criterion=gini, total=   0.0s\n",
      "[CV] min_samples_split=5, min_samples_leaf=10, max_depth=5, criterion=gini \n",
      "[CV]  min_samples_split=5, min_samples_leaf=10, max_depth=5, criterion=gini, total=   0.0s\n",
      "[CV] min_samples_split=5, min_samples_leaf=10, max_depth=5, criterion=gini \n",
      "[CV]  min_samples_split=5, min_samples_leaf=10, max_depth=5, criterion=gini, total=   0.0s\n",
      "[CV] min_samples_split=5, min_samples_leaf=10, max_depth=5, criterion=gini \n"
     ]
    },
    {
     "name": "stdout",
     "output_type": "stream",
     "text": [
      "[CV]  min_samples_split=5, min_samples_leaf=10, max_depth=5, criterion=gini, total=   0.0s\n",
      "[CV] min_samples_split=2, min_samples_leaf=5, max_depth=5, criterion=entropy \n",
      "[CV]  min_samples_split=2, min_samples_leaf=5, max_depth=5, criterion=entropy, total=   0.0s\n",
      "[CV] min_samples_split=2, min_samples_leaf=5, max_depth=5, criterion=entropy \n",
      "[CV]  min_samples_split=2, min_samples_leaf=5, max_depth=5, criterion=entropy, total=   0.0s\n",
      "[CV] min_samples_split=2, min_samples_leaf=5, max_depth=5, criterion=entropy \n",
      "[CV]  min_samples_split=2, min_samples_leaf=5, max_depth=5, criterion=entropy, total=   0.0s\n",
      "[CV] min_samples_split=2, min_samples_leaf=5, max_depth=5, criterion=entropy \n",
      "[CV]  min_samples_split=2, min_samples_leaf=5, max_depth=5, criterion=entropy, total=   0.0s\n",
      "[CV] min_samples_split=2, min_samples_leaf=5, max_depth=5, criterion=entropy \n",
      "[CV]  min_samples_split=2, min_samples_leaf=5, max_depth=5, criterion=entropy, total=   0.0s\n",
      "[CV] min_samples_split=15, min_samples_leaf=5, max_depth=25, criterion=gini \n",
      "[CV]  min_samples_split=15, min_samples_leaf=5, max_depth=25, criterion=gini, total=   0.0s\n",
      "[CV] min_samples_split=15, min_samples_leaf=5, max_depth=25, criterion=gini \n",
      "[CV]  min_samples_split=15, min_samples_leaf=5, max_depth=25, criterion=gini, total=   0.0s\n",
      "[CV] min_samples_split=15, min_samples_leaf=5, max_depth=25, criterion=gini \n",
      "[CV]  min_samples_split=15, min_samples_leaf=5, max_depth=25, criterion=gini, total=   0.0s\n",
      "[CV] min_samples_split=15, min_samples_leaf=5, max_depth=25, criterion=gini \n",
      "[CV]  min_samples_split=15, min_samples_leaf=5, max_depth=25, criterion=gini, total=   0.0s\n",
      "[CV] min_samples_split=15, min_samples_leaf=5, max_depth=25, criterion=gini \n",
      "[CV]  min_samples_split=15, min_samples_leaf=5, max_depth=25, criterion=gini, total=   0.0s\n",
      "[CV] min_samples_split=5, min_samples_leaf=1, max_depth=25, criterion=entropy \n",
      "[CV]  min_samples_split=5, min_samples_leaf=1, max_depth=25, criterion=entropy, total=   0.0s\n",
      "[CV] min_samples_split=5, min_samples_leaf=1, max_depth=25, criterion=entropy \n",
      "[CV]  min_samples_split=5, min_samples_leaf=1, max_depth=25, criterion=entropy, total=   0.0s\n",
      "[CV] min_samples_split=5, min_samples_leaf=1, max_depth=25, criterion=entropy \n",
      "[CV]  min_samples_split=5, min_samples_leaf=1, max_depth=25, criterion=entropy, total=   0.0s\n",
      "[CV] min_samples_split=5, min_samples_leaf=1, max_depth=25, criterion=entropy \n",
      "[CV]  min_samples_split=5, min_samples_leaf=1, max_depth=25, criterion=entropy, total=   0.0s\n",
      "[CV] min_samples_split=5, min_samples_leaf=1, max_depth=25, criterion=entropy \n",
      "[CV]  min_samples_split=5, min_samples_leaf=1, max_depth=25, criterion=entropy, total=   0.0s\n",
      "[CV] min_samples_split=50, min_samples_leaf=1, max_depth=10, criterion=entropy \n",
      "[CV]  min_samples_split=50, min_samples_leaf=1, max_depth=10, criterion=entropy, total=   0.0s\n",
      "[CV] min_samples_split=50, min_samples_leaf=1, max_depth=10, criterion=entropy \n",
      "[CV]  min_samples_split=50, min_samples_leaf=1, max_depth=10, criterion=entropy, total=   0.0s\n",
      "[CV] min_samples_split=50, min_samples_leaf=1, max_depth=10, criterion=entropy \n",
      "[CV]  min_samples_split=50, min_samples_leaf=1, max_depth=10, criterion=entropy, total=   0.0s\n",
      "[CV] min_samples_split=50, min_samples_leaf=1, max_depth=10, criterion=entropy \n",
      "[CV]  min_samples_split=50, min_samples_leaf=1, max_depth=10, criterion=entropy, total=   0.0s\n",
      "[CV] min_samples_split=50, min_samples_leaf=1, max_depth=10, criterion=entropy \n",
      "[CV]  min_samples_split=50, min_samples_leaf=1, max_depth=10, criterion=entropy, total=   0.0s\n",
      "[CV] min_samples_split=100, min_samples_leaf=5, max_depth=5, criterion=entropy \n",
      "[CV]  min_samples_split=100, min_samples_leaf=5, max_depth=5, criterion=entropy, total=   0.0s\n",
      "[CV] min_samples_split=100, min_samples_leaf=5, max_depth=5, criterion=entropy \n",
      "[CV]  min_samples_split=100, min_samples_leaf=5, max_depth=5, criterion=entropy, total=   0.0s\n",
      "[CV] min_samples_split=100, min_samples_leaf=5, max_depth=5, criterion=entropy \n",
      "[CV]  min_samples_split=100, min_samples_leaf=5, max_depth=5, criterion=entropy, total=   0.0s\n",
      "[CV] min_samples_split=100, min_samples_leaf=5, max_depth=5, criterion=entropy \n",
      "[CV]  min_samples_split=100, min_samples_leaf=5, max_depth=5, criterion=entropy, total=   0.0s\n",
      "[CV] min_samples_split=100, min_samples_leaf=5, max_depth=5, criterion=entropy \n",
      "[CV]  min_samples_split=100, min_samples_leaf=5, max_depth=5, criterion=entropy, total=   0.0s\n",
      "[CV] min_samples_split=2, min_samples_leaf=10, max_depth=10, criterion=gini \n",
      "[CV]  min_samples_split=2, min_samples_leaf=10, max_depth=10, criterion=gini, total=   0.0s\n",
      "[CV] min_samples_split=2, min_samples_leaf=10, max_depth=10, criterion=gini \n",
      "[CV]  min_samples_split=2, min_samples_leaf=10, max_depth=10, criterion=gini, total=   0.0s\n",
      "[CV] min_samples_split=2, min_samples_leaf=10, max_depth=10, criterion=gini \n",
      "[CV]  min_samples_split=2, min_samples_leaf=10, max_depth=10, criterion=gini, total=   0.0s\n",
      "[CV] min_samples_split=2, min_samples_leaf=10, max_depth=10, criterion=gini \n",
      "[CV]  min_samples_split=2, min_samples_leaf=10, max_depth=10, criterion=gini, total=   0.0s\n",
      "[CV] min_samples_split=2, min_samples_leaf=10, max_depth=10, criterion=gini \n",
      "[CV]  min_samples_split=2, min_samples_leaf=10, max_depth=10, criterion=gini, total=   0.0s\n",
      "[CV] min_samples_split=5, min_samples_leaf=10, max_depth=30, criterion=entropy \n",
      "[CV]  min_samples_split=5, min_samples_leaf=10, max_depth=30, criterion=entropy, total=   0.0s\n",
      "[CV] min_samples_split=5, min_samples_leaf=10, max_depth=30, criterion=entropy \n",
      "[CV]  min_samples_split=5, min_samples_leaf=10, max_depth=30, criterion=entropy, total=   0.0s\n",
      "[CV] min_samples_split=5, min_samples_leaf=10, max_depth=30, criterion=entropy \n",
      "[CV]  min_samples_split=5, min_samples_leaf=10, max_depth=30, criterion=entropy, total=   0.0s\n",
      "[CV] min_samples_split=5, min_samples_leaf=10, max_depth=30, criterion=entropy \n",
      "[CV]  min_samples_split=5, min_samples_leaf=10, max_depth=30, criterion=entropy, total=   0.0s\n",
      "[CV] min_samples_split=5, min_samples_leaf=10, max_depth=30, criterion=entropy \n",
      "[CV]  min_samples_split=5, min_samples_leaf=10, max_depth=30, criterion=entropy, total=   0.0s\n",
      "[CV] min_samples_split=15, min_samples_leaf=2, max_depth=20, criterion=entropy \n",
      "[CV]  min_samples_split=15, min_samples_leaf=2, max_depth=20, criterion=entropy, total=   0.0s\n",
      "[CV] min_samples_split=15, min_samples_leaf=2, max_depth=20, criterion=entropy \n",
      "[CV]  min_samples_split=15, min_samples_leaf=2, max_depth=20, criterion=entropy, total=   0.0s\n",
      "[CV] min_samples_split=15, min_samples_leaf=2, max_depth=20, criterion=entropy \n",
      "[CV]  min_samples_split=15, min_samples_leaf=2, max_depth=20, criterion=entropy, total=   0.0s\n",
      "[CV] min_samples_split=15, min_samples_leaf=2, max_depth=20, criterion=entropy \n",
      "[CV]  min_samples_split=15, min_samples_leaf=2, max_depth=20, criterion=entropy, total=   0.0s\n",
      "[CV] min_samples_split=15, min_samples_leaf=2, max_depth=20, criterion=entropy \n",
      "[CV]  min_samples_split=15, min_samples_leaf=2, max_depth=20, criterion=entropy, total=   0.0s\n",
      "[CV] min_samples_split=10, min_samples_leaf=5, max_depth=10, criterion=gini \n",
      "[CV]  min_samples_split=10, min_samples_leaf=5, max_depth=10, criterion=gini, total=   0.0s\n",
      "[CV] min_samples_split=10, min_samples_leaf=5, max_depth=10, criterion=gini \n",
      "[CV]  min_samples_split=10, min_samples_leaf=5, max_depth=10, criterion=gini, total=   0.0s\n",
      "[CV] min_samples_split=10, min_samples_leaf=5, max_depth=10, criterion=gini \n",
      "[CV]  min_samples_split=10, min_samples_leaf=5, max_depth=10, criterion=gini, total=   0.0s\n",
      "[CV] min_samples_split=10, min_samples_leaf=5, max_depth=10, criterion=gini \n",
      "[CV]  min_samples_split=10, min_samples_leaf=5, max_depth=10, criterion=gini, total=   0.0s\n",
      "[CV] min_samples_split=10, min_samples_leaf=5, max_depth=10, criterion=gini \n",
      "[CV]  min_samples_split=10, min_samples_leaf=5, max_depth=10, criterion=gini, total=   0.0s\n",
      "[CV] min_samples_split=50, min_samples_leaf=1, max_depth=25, criterion=entropy \n",
      "[CV]  min_samples_split=50, min_samples_leaf=1, max_depth=25, criterion=entropy, total=   0.0s\n",
      "[CV] min_samples_split=50, min_samples_leaf=1, max_depth=25, criterion=entropy \n",
      "[CV]  min_samples_split=50, min_samples_leaf=1, max_depth=25, criterion=entropy, total=   0.0s\n",
      "[CV] min_samples_split=50, min_samples_leaf=1, max_depth=25, criterion=entropy \n",
      "[CV]  min_samples_split=50, min_samples_leaf=1, max_depth=25, criterion=entropy, total=   0.0s\n",
      "[CV] min_samples_split=50, min_samples_leaf=1, max_depth=25, criterion=entropy \n",
      "[CV]  min_samples_split=50, min_samples_leaf=1, max_depth=25, criterion=entropy, total=   0.0s\n",
      "[CV] min_samples_split=50, min_samples_leaf=1, max_depth=25, criterion=entropy \n",
      "[CV]  min_samples_split=50, min_samples_leaf=1, max_depth=25, criterion=entropy, total=   0.0s\n",
      "[CV] min_samples_split=50, min_samples_leaf=10, max_depth=20, criterion=entropy \n",
      "[CV]  min_samples_split=50, min_samples_leaf=10, max_depth=20, criterion=entropy, total=   0.0s\n",
      "[CV] min_samples_split=50, min_samples_leaf=10, max_depth=20, criterion=entropy \n",
      "[CV]  min_samples_split=50, min_samples_leaf=10, max_depth=20, criterion=entropy, total=   0.0s\n",
      "[CV] min_samples_split=50, min_samples_leaf=10, max_depth=20, criterion=entropy \n",
      "[CV]  min_samples_split=50, min_samples_leaf=10, max_depth=20, criterion=entropy, total=   0.0s\n",
      "[CV] min_samples_split=50, min_samples_leaf=10, max_depth=20, criterion=entropy \n",
      "[CV]  min_samples_split=50, min_samples_leaf=10, max_depth=20, criterion=entropy, total=   0.0s\n",
      "[CV] min_samples_split=50, min_samples_leaf=10, max_depth=20, criterion=entropy \n",
      "[CV]  min_samples_split=50, min_samples_leaf=10, max_depth=20, criterion=entropy, total=   0.0s\n",
      "[CV] min_samples_split=15, min_samples_leaf=2, max_depth=20, criterion=gini \n",
      "[CV]  min_samples_split=15, min_samples_leaf=2, max_depth=20, criterion=gini, total=   0.0s\n",
      "[CV] min_samples_split=15, min_samples_leaf=2, max_depth=20, criterion=gini \n",
      "[CV]  min_samples_split=15, min_samples_leaf=2, max_depth=20, criterion=gini, total=   0.0s\n",
      "[CV] min_samples_split=15, min_samples_leaf=2, max_depth=20, criterion=gini \n",
      "[CV]  min_samples_split=15, min_samples_leaf=2, max_depth=20, criterion=gini, total=   0.0s\n",
      "[CV] min_samples_split=15, min_samples_leaf=2, max_depth=20, criterion=gini \n",
      "[CV]  min_samples_split=15, min_samples_leaf=2, max_depth=20, criterion=gini, total=   0.0s\n",
      "[CV] min_samples_split=15, min_samples_leaf=2, max_depth=20, criterion=gini \n",
      "[CV]  min_samples_split=15, min_samples_leaf=2, max_depth=20, criterion=gini, total=   0.0s\n",
      "[CV] min_samples_split=10, min_samples_leaf=10, max_depth=20, criterion=entropy \n",
      "[CV]  min_samples_split=10, min_samples_leaf=10, max_depth=20, criterion=entropy, total=   0.0s\n",
      "[CV] min_samples_split=10, min_samples_leaf=10, max_depth=20, criterion=entropy \n",
      "[CV]  min_samples_split=10, min_samples_leaf=10, max_depth=20, criterion=entropy, total=   0.0s\n",
      "[CV] min_samples_split=10, min_samples_leaf=10, max_depth=20, criterion=entropy \n",
      "[CV]  min_samples_split=10, min_samples_leaf=10, max_depth=20, criterion=entropy, total=   0.0s\n",
      "[CV] min_samples_split=10, min_samples_leaf=10, max_depth=20, criterion=entropy \n"
     ]
    },
    {
     "name": "stdout",
     "output_type": "stream",
     "text": [
      "[CV]  min_samples_split=10, min_samples_leaf=10, max_depth=20, criterion=entropy, total=   0.0s\n",
      "[CV] min_samples_split=10, min_samples_leaf=10, max_depth=20, criterion=entropy \n",
      "[CV]  min_samples_split=10, min_samples_leaf=10, max_depth=20, criterion=entropy, total=   0.0s\n",
      "[CV] min_samples_split=50, min_samples_leaf=10, max_depth=15, criterion=gini \n",
      "[CV]  min_samples_split=50, min_samples_leaf=10, max_depth=15, criterion=gini, total=   0.0s\n",
      "[CV] min_samples_split=50, min_samples_leaf=10, max_depth=15, criterion=gini \n",
      "[CV]  min_samples_split=50, min_samples_leaf=10, max_depth=15, criterion=gini, total=   0.0s\n",
      "[CV] min_samples_split=50, min_samples_leaf=10, max_depth=15, criterion=gini \n",
      "[CV]  min_samples_split=50, min_samples_leaf=10, max_depth=15, criterion=gini, total=   0.0s\n",
      "[CV] min_samples_split=50, min_samples_leaf=10, max_depth=15, criterion=gini \n",
      "[CV]  min_samples_split=50, min_samples_leaf=10, max_depth=15, criterion=gini, total=   0.0s\n",
      "[CV] min_samples_split=50, min_samples_leaf=10, max_depth=15, criterion=gini \n",
      "[CV]  min_samples_split=50, min_samples_leaf=10, max_depth=15, criterion=gini, total=   0.0s\n",
      "[CV] min_samples_split=50, min_samples_leaf=1, max_depth=5, criterion=entropy \n",
      "[CV]  min_samples_split=50, min_samples_leaf=1, max_depth=5, criterion=entropy, total=   0.0s\n",
      "[CV] min_samples_split=50, min_samples_leaf=1, max_depth=5, criterion=entropy \n",
      "[CV]  min_samples_split=50, min_samples_leaf=1, max_depth=5, criterion=entropy, total=   0.0s\n",
      "[CV] min_samples_split=50, min_samples_leaf=1, max_depth=5, criterion=entropy \n",
      "[CV]  min_samples_split=50, min_samples_leaf=1, max_depth=5, criterion=entropy, total=   0.0s\n",
      "[CV] min_samples_split=50, min_samples_leaf=1, max_depth=5, criterion=entropy \n",
      "[CV]  min_samples_split=50, min_samples_leaf=1, max_depth=5, criterion=entropy, total=   0.0s\n",
      "[CV] min_samples_split=50, min_samples_leaf=1, max_depth=5, criterion=entropy \n",
      "[CV]  min_samples_split=50, min_samples_leaf=1, max_depth=5, criterion=entropy, total=   0.0s\n",
      "[CV] min_samples_split=100, min_samples_leaf=10, max_depth=20, criterion=entropy \n",
      "[CV]  min_samples_split=100, min_samples_leaf=10, max_depth=20, criterion=entropy, total=   0.0s\n",
      "[CV] min_samples_split=100, min_samples_leaf=10, max_depth=20, criterion=entropy \n",
      "[CV]  min_samples_split=100, min_samples_leaf=10, max_depth=20, criterion=entropy, total=   0.0s\n",
      "[CV] min_samples_split=100, min_samples_leaf=10, max_depth=20, criterion=entropy \n",
      "[CV]  min_samples_split=100, min_samples_leaf=10, max_depth=20, criterion=entropy, total=   0.0s\n",
      "[CV] min_samples_split=100, min_samples_leaf=10, max_depth=20, criterion=entropy \n",
      "[CV]  min_samples_split=100, min_samples_leaf=10, max_depth=20, criterion=entropy, total=   0.0s\n",
      "[CV] min_samples_split=100, min_samples_leaf=10, max_depth=20, criterion=entropy \n",
      "[CV]  min_samples_split=100, min_samples_leaf=10, max_depth=20, criterion=entropy, total=   0.0s\n",
      "[CV] min_samples_split=50, min_samples_leaf=1, max_depth=30, criterion=gini \n",
      "[CV]  min_samples_split=50, min_samples_leaf=1, max_depth=30, criterion=gini, total=   0.0s\n",
      "[CV] min_samples_split=50, min_samples_leaf=1, max_depth=30, criterion=gini \n",
      "[CV]  min_samples_split=50, min_samples_leaf=1, max_depth=30, criterion=gini, total=   0.0s\n",
      "[CV] min_samples_split=50, min_samples_leaf=1, max_depth=30, criterion=gini \n",
      "[CV]  min_samples_split=50, min_samples_leaf=1, max_depth=30, criterion=gini, total=   0.0s\n",
      "[CV] min_samples_split=50, min_samples_leaf=1, max_depth=30, criterion=gini \n",
      "[CV]  min_samples_split=50, min_samples_leaf=1, max_depth=30, criterion=gini, total=   0.0s\n",
      "[CV] min_samples_split=50, min_samples_leaf=1, max_depth=30, criterion=gini \n",
      "[CV]  min_samples_split=50, min_samples_leaf=1, max_depth=30, criterion=gini, total=   0.0s\n",
      "[CV] min_samples_split=100, min_samples_leaf=1, max_depth=30, criterion=entropy \n",
      "[CV]  min_samples_split=100, min_samples_leaf=1, max_depth=30, criterion=entropy, total=   0.0s\n",
      "[CV] min_samples_split=100, min_samples_leaf=1, max_depth=30, criterion=entropy \n",
      "[CV]  min_samples_split=100, min_samples_leaf=1, max_depth=30, criterion=entropy, total=   0.0s\n",
      "[CV] min_samples_split=100, min_samples_leaf=1, max_depth=30, criterion=entropy \n",
      "[CV]  min_samples_split=100, min_samples_leaf=1, max_depth=30, criterion=entropy, total=   0.0s\n",
      "[CV] min_samples_split=100, min_samples_leaf=1, max_depth=30, criterion=entropy \n",
      "[CV]  min_samples_split=100, min_samples_leaf=1, max_depth=30, criterion=entropy, total=   0.0s\n",
      "[CV] min_samples_split=100, min_samples_leaf=1, max_depth=30, criterion=entropy \n",
      "[CV]  min_samples_split=100, min_samples_leaf=1, max_depth=30, criterion=entropy, total=   0.0s\n",
      "[CV] min_samples_split=5, min_samples_leaf=2, max_depth=20, criterion=gini \n",
      "[CV]  min_samples_split=5, min_samples_leaf=2, max_depth=20, criterion=gini, total=   0.0s\n",
      "[CV] min_samples_split=5, min_samples_leaf=2, max_depth=20, criterion=gini \n",
      "[CV]  min_samples_split=5, min_samples_leaf=2, max_depth=20, criterion=gini, total=   0.0s\n",
      "[CV] min_samples_split=5, min_samples_leaf=2, max_depth=20, criterion=gini \n",
      "[CV]  min_samples_split=5, min_samples_leaf=2, max_depth=20, criterion=gini, total=   0.0s\n",
      "[CV] min_samples_split=5, min_samples_leaf=2, max_depth=20, criterion=gini \n",
      "[CV]  min_samples_split=5, min_samples_leaf=2, max_depth=20, criterion=gini, total=   0.0s\n",
      "[CV] min_samples_split=5, min_samples_leaf=2, max_depth=20, criterion=gini \n",
      "[CV]  min_samples_split=5, min_samples_leaf=2, max_depth=20, criterion=gini, total=   0.0s\n",
      "[CV] min_samples_split=100, min_samples_leaf=5, max_depth=20, criterion=entropy \n",
      "[CV]  min_samples_split=100, min_samples_leaf=5, max_depth=20, criterion=entropy, total=   0.0s\n",
      "[CV] min_samples_split=100, min_samples_leaf=5, max_depth=20, criterion=entropy \n",
      "[CV]  min_samples_split=100, min_samples_leaf=5, max_depth=20, criterion=entropy, total=   0.0s\n",
      "[CV] min_samples_split=100, min_samples_leaf=5, max_depth=20, criterion=entropy \n",
      "[CV]  min_samples_split=100, min_samples_leaf=5, max_depth=20, criterion=entropy, total=   0.0s\n",
      "[CV] min_samples_split=100, min_samples_leaf=5, max_depth=20, criterion=entropy \n",
      "[CV]  min_samples_split=100, min_samples_leaf=5, max_depth=20, criterion=entropy, total=   0.0s\n",
      "[CV] min_samples_split=100, min_samples_leaf=5, max_depth=20, criterion=entropy \n",
      "[CV]  min_samples_split=100, min_samples_leaf=5, max_depth=20, criterion=entropy, total=   0.0s\n",
      "[CV] min_samples_split=5, min_samples_leaf=1, max_depth=15, criterion=entropy \n",
      "[CV]  min_samples_split=5, min_samples_leaf=1, max_depth=15, criterion=entropy, total=   0.0s\n",
      "[CV] min_samples_split=5, min_samples_leaf=1, max_depth=15, criterion=entropy \n",
      "[CV]  min_samples_split=5, min_samples_leaf=1, max_depth=15, criterion=entropy, total=   0.0s\n",
      "[CV] min_samples_split=5, min_samples_leaf=1, max_depth=15, criterion=entropy \n",
      "[CV]  min_samples_split=5, min_samples_leaf=1, max_depth=15, criterion=entropy, total=   0.0s\n",
      "[CV] min_samples_split=5, min_samples_leaf=1, max_depth=15, criterion=entropy \n",
      "[CV]  min_samples_split=5, min_samples_leaf=1, max_depth=15, criterion=entropy, total=   0.0s\n",
      "[CV] min_samples_split=5, min_samples_leaf=1, max_depth=15, criterion=entropy \n",
      "[CV]  min_samples_split=5, min_samples_leaf=1, max_depth=15, criterion=entropy, total=   0.0s\n",
      "[CV] min_samples_split=50, min_samples_leaf=10, max_depth=10, criterion=entropy \n",
      "[CV]  min_samples_split=50, min_samples_leaf=10, max_depth=10, criterion=entropy, total=   0.0s\n",
      "[CV] min_samples_split=50, min_samples_leaf=10, max_depth=10, criterion=entropy \n",
      "[CV]  min_samples_split=50, min_samples_leaf=10, max_depth=10, criterion=entropy, total=   0.0s\n",
      "[CV] min_samples_split=50, min_samples_leaf=10, max_depth=10, criterion=entropy \n",
      "[CV]  min_samples_split=50, min_samples_leaf=10, max_depth=10, criterion=entropy, total=   0.0s\n",
      "[CV] min_samples_split=50, min_samples_leaf=10, max_depth=10, criterion=entropy \n",
      "[CV]  min_samples_split=50, min_samples_leaf=10, max_depth=10, criterion=entropy, total=   0.0s\n",
      "[CV] min_samples_split=50, min_samples_leaf=10, max_depth=10, criterion=entropy \n",
      "[CV]  min_samples_split=50, min_samples_leaf=10, max_depth=10, criterion=entropy, total=   0.0s\n"
     ]
    },
    {
     "name": "stderr",
     "output_type": "stream",
     "text": [
      "[Parallel(n_jobs=1)]: Done 250 out of 250 | elapsed:    2.4s finished\n",
      "C:\\Users\\sumit\\Anaconda3\\lib\\site-packages\\sklearn\\model_selection\\_search.py:814: DeprecationWarning: The default of the `iid` parameter will change from True to False in version 0.22 and will be removed in 0.24. This will change numeric results when test-set sizes are unequal.\n",
      "  DeprecationWarning)\n"
     ]
    },
    {
     "data": {
      "text/plain": [
       "RandomizedSearchCV(cv=5, error_score='raise-deprecating',\n",
       "                   estimator=DecisionTreeClassifier(class_weight=None,\n",
       "                                                    criterion='gini',\n",
       "                                                    max_depth=None,\n",
       "                                                    max_features=None,\n",
       "                                                    max_leaf_nodes=None,\n",
       "                                                    min_impurity_decrease=0.0,\n",
       "                                                    min_impurity_split=None,\n",
       "                                                    min_samples_leaf=1,\n",
       "                                                    min_samples_split=2,\n",
       "                                                    min_weight_fraction_leaf=0.0,\n",
       "                                                    presort=False,\n",
       "                                                    random_state=None,\n",
       "                                                    splitter='best'),\n",
       "                   iid='warn', n_iter=50, n_jobs=1,\n",
       "                   param_distributions={'criterion': ['gini', 'entropy'],\n",
       "                                        'max_depth': [5, 10, 15, 20, 25, 30],\n",
       "                                        'min_samples_leaf': [1, 2, 5, 10],\n",
       "                                        'min_samples_split': [2, 5, 10, 15, 50,\n",
       "                                                              100]},\n",
       "                   pre_dispatch='2*n_jobs', random_state=None, refit=True,\n",
       "                   return_train_score=False, scoring='accuracy', verbose=2)"
      ]
     },
     "execution_count": 50,
     "metadata": {},
     "output_type": "execute_result"
    }
   ],
   "source": [
    "dt_random.fit(X_train,y_train)"
   ]
  },
  {
   "cell_type": "code",
   "execution_count": 51,
   "metadata": {},
   "outputs": [],
   "source": [
    "random_pred = dt_random.predict(X_test)"
   ]
  },
  {
   "cell_type": "code",
   "execution_count": 52,
   "metadata": {},
   "outputs": [
    {
     "data": {
      "text/plain": [
       "0.835820895522388"
      ]
     },
     "execution_count": 52,
     "metadata": {},
     "output_type": "execute_result"
    }
   ],
   "source": [
    "metrics.accuracy_score(y_test,random_pred)"
   ]
  },
  {
   "cell_type": "code",
   "execution_count": 53,
   "metadata": {},
   "outputs": [
    {
     "data": {
      "text/plain": [
       "array([[158,   7],\n",
       "       [ 37,  66]], dtype=int64)"
      ]
     },
     "execution_count": 53,
     "metadata": {},
     "output_type": "execute_result"
    }
   ],
   "source": [
    "random_cnf_matrix = metrics.confusion_matrix(y_test,random_pred)\n",
    "random_cnf_matrix"
   ]
  },
  {
   "cell_type": "code",
   "execution_count": 54,
   "metadata": {},
   "outputs": [
    {
     "data": {
      "text/plain": [
       "Text(0.5, 1.0, 'Confusion matrix')"
      ]
     },
     "execution_count": 54,
     "metadata": {},
     "output_type": "execute_result"
    },
    {
     "data": {
      "image/png": "[encoded data removed]",
      "text/plain": [
       "<Figure size 432x288 with 2 Axes>"
      ]
     },
     "metadata": {
      "needs_background": "light"
     },
     "output_type": "display_data"
    }
   ],
   "source": [
    "sns.heatmap(pd.DataFrame(random_cnf_matrix),annot=True,fmt='g')\n",
    "plt.xlabel('Predicted')\n",
    "plt.ylabel('Actual')\n",
    "plt.title('Confusion matrix')"
   ]
  },
  {
   "cell_type": "code",
   "execution_count": 55,
   "metadata": {},
   "outputs": [
    {
     "name": "stdout",
     "output_type": "stream",
     "text": [
      "              precision    recall  f1-score   support\n",
      "\n",
      "           0       0.81      0.96      0.88       165\n",
      "           1       0.90      0.64      0.75       103\n",
      "\n",
      "    accuracy                           0.84       268\n",
      "   macro avg       0.86      0.80      0.81       268\n",
      "weighted avg       0.85      0.84      0.83       268\n",
      "\n"
     ]
    }
   ],
   "source": [
    "print(metrics.classification_report(y_test,random_pred))"
   ]
  },
  {
   "cell_type": "markdown",
   "metadata": {},
   "source": [
    "### Comparing the models after hyperparameter tuning"
   ]
  },
  {
   "cell_type": "code",
   "execution_count": 56,
   "metadata": {},
   "outputs": [
    {
     "name": "stdout",
     "output_type": "stream",
     "text": [
      "Accuracy before tuning: 0.8022388059701493\n",
      "Accuracy after tuning : 0.835820895522388\n"
     ]
    }
   ],
   "source": [
    "print(\"Accuracy before tuning: {}\".format(metrics.accuracy_score(y_test,pred)))\n",
    "print(\"Accuracy after tuning : {}\".format(metrics.accuracy_score(y_test,random_pred)))\n"
   ]
  },
  {
   "cell_type": "code",
   "execution_count": 57,
   "metadata": {},
   "outputs": [
    {
     "data": {
      "image/png": "[encoded data removed]",
      "text/plain": [
       "<Figure size 1080x360 with 4 Axes>"
      ]
     },
     "metadata": {
      "needs_background": "light"
     },
     "output_type": "display_data"
    }
   ],
   "source": [
    "fig, (ax,ax2) = plt.subplots(ncols=2,figsize=(15,5))\n",
    "fig.subplots_adjust(wspace=0.5)\n",
    "sns.heatmap(pd.DataFrame(cnf_matrix), cmap=\"rocket\", ax=ax, cbar=False,annot=True,fmt='g')\n",
    "fig.colorbar(ax.collections[0], ax=ax,location=\"left\", use_gridspec=False, pad=0.2)\n",
    "ax.set_title('Confusion Matrix')\n",
    "sns.heatmap(pd.DataFrame(random_cnf_matrix), cmap=\"icefire\", ax=ax2, cbar=False,annot=True,fmt='g')\n",
    "fig.colorbar(ax2.collections[0], ax=ax2,location=\"right\", use_gridspec=False, pad=0.2)\n",
    "ax2.yaxis.tick_right()\n",
    "ax2.tick_params(rotation=0)\n",
    "ax2.set_title('Confusion Matrix after tuning')\n",
    "plt.show()"
   ]
  },
  {
   "cell_type": "code",
   "execution_count": 58,
   "metadata": {},
   "outputs": [
    {
     "name": "stdout",
     "output_type": "stream",
     "text": [
      "F1-Score before tuning: 0.7005649717514123\n",
      "F1-Score after tuning : 0.75\n"
     ]
    }
   ],
   "source": [
    "print(\"F1-Score before tuning: {}\".format(metrics.f1_score(y_test,pred)))\n",
    "print(\"F1-Score after tuning : {}\".format(metrics.f1_score(y_test,random_pred)))"
   ]
  }
 ],
 "metadata": {
  "kernelspec": {
   "display_name": "Python 3",
   "language": "python",
   "name": "python3"
  },
  "language_info": {
   "codemirror_mode": {
    "name": "ipython",
    "version": 3
   },
   "file_extension": ".py",
   "mimetype": "text/x-python",
   "name": "python",
   "nbconvert_exporter": "python",
   "pygments_lexer": "ipython3",
   "version": "3.7.4"
  }
 },
 "nbformat": 4,
 "nbformat_minor": 2
}
